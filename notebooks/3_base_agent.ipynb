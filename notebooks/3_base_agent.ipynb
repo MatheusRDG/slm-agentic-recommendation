{
 "cells": [
  {
   "cell_type": "markdown",
   "metadata": {},
   "source": [
    "# Base agents for recommendation"
   ]
  },
  {
   "cell_type": "code",
   "execution_count": 42,
   "metadata": {},
   "outputs": [
    {
     "data": {
      "text/plain": [
       "True"
      ]
     },
     "execution_count": 42,
     "metadata": {},
     "output_type": "execute_result"
    }
   ],
   "source": [
    "from dotenv import load_dotenv\n",
    "\n",
    "load_dotenv()"
   ]
  },
  {
   "cell_type": "code",
   "execution_count": 43,
   "metadata": {},
   "outputs": [],
   "source": [
    "import pandas as pd\n",
    "import numpy as np\n",
    "import random\n",
    "\n",
    "# fix seeds\n",
    "random.seed(42)\n",
    "np.random.seed(42)"
   ]
  },
  {
   "cell_type": "markdown",
   "metadata": {},
   "source": [
    "## Load data"
   ]
  },
  {
   "cell_type": "code",
   "execution_count": 44,
   "metadata": {},
   "outputs": [],
   "source": [
    "data = pd.read_csv(\"../data/cd_and_vinyl/dense_subset.csv\")\n",
    "data_items = pd.read_json(\"../data/cd_and_vinyl/meta_CDs_and_Vinyl.jsonl\", lines=True)"
   ]
  },
  {
   "cell_type": "markdown",
   "metadata": {},
   "source": [
    "## Sample User and Items"
   ]
  },
  {
   "cell_type": "code",
   "execution_count": 45,
   "metadata": {},
   "outputs": [],
   "source": [
    "sample_user = (\n",
    "    data.query(f\"user_id == '{data.sample(1, random_state=42)['user_id'].values[0]}'\")\n",
    "    .drop_duplicates()\n",
    "    .drop(columns=[\"images\", \"helpful_vote\", \"verified_purchase\"])\n",
    ")"
   ]
  },
  {
   "cell_type": "code",
   "execution_count": 46,
   "metadata": {},
   "outputs": [],
   "source": [
    "items_user = data_items.query(\"parent_asin in @sample_user['parent_asin'].values\").drop(\n",
    "    columns=[\"features\", \"images\", \"videos\", \"bought_together\", \"subtitle\", \"author\"]\n",
    ")"
   ]
  },
  {
   "cell_type": "markdown",
   "metadata": {},
   "source": [
    "## Agents"
   ]
  },
  {
   "cell_type": "code",
   "execution_count": 47,
   "metadata": {},
   "outputs": [],
   "source": [
    "# from langchain_ollama import ChatOllama\n",
    "from langchain_openai import ChatOpenAI\n",
    "\n",
    "# ollama = ChatOllama(model=\"phi3:3.8b\")\n",
    "openai = ChatOpenAI(model=\"gpt-4o-mini\", temperature=0.1)"
   ]
  },
  {
   "cell_type": "code",
   "execution_count": 48,
   "metadata": {},
   "outputs": [],
   "source": [
    "# Train / Test\n",
    "liked_items_train = sample_user.query(\"rating > 3\")\n",
    "liked_items_train = liked_items_train.sample(2, random_state=42)\n",
    "liked_items_test = liked_items_train.drop(liked_items_train.index)\n",
    "\n",
    "disliked_items = sample_user.query(\"rating < 3\")\n",
    "disliked_items_train = disliked_items.sample(2, random_state=42)\n",
    "disliked_items_test = disliked_items.drop(disliked_items_train.index)"
   ]
  },
  {
   "cell_type": "code",
   "execution_count": 49,
   "metadata": {},
   "outputs": [],
   "source": [
    "liked_items_train = liked_items_train.merge(items_user, on=\"parent_asin\")\n",
    "liked_items_test = liked_items_test.merge(items_user, on=\"parent_asin\")\n",
    "\n",
    "disliked_items_train = disliked_items_train.merge(items_user, on=\"parent_asin\")\n",
    "disliked_items_test = disliked_items_test.merge(items_user, on=\"parent_asin\")"
   ]
  },
  {
   "cell_type": "code",
   "execution_count": 50,
   "metadata": {},
   "outputs": [
    {
     "data": {
      "text/html": [
       "<div>\n",
       "<style scoped>\n",
       "    .dataframe tbody tr th:only-of-type {\n",
       "        vertical-align: middle;\n",
       "    }\n",
       "\n",
       "    .dataframe tbody tr th {\n",
       "        vertical-align: top;\n",
       "    }\n",
       "\n",
       "    .dataframe thead th {\n",
       "        text-align: right;\n",
       "    }\n",
       "</style>\n",
       "<table border=\"1\" class=\"dataframe\">\n",
       "  <thead>\n",
       "    <tr style=\"text-align: right;\">\n",
       "      <th></th>\n",
       "      <th>rating</th>\n",
       "      <th>title_x</th>\n",
       "      <th>text</th>\n",
       "      <th>asin</th>\n",
       "      <th>parent_asin</th>\n",
       "      <th>user_id</th>\n",
       "      <th>timestamp</th>\n",
       "      <th>main_category</th>\n",
       "      <th>title_y</th>\n",
       "      <th>average_rating</th>\n",
       "      <th>rating_number</th>\n",
       "      <th>description</th>\n",
       "      <th>price</th>\n",
       "      <th>store</th>\n",
       "      <th>categories</th>\n",
       "      <th>details</th>\n",
       "    </tr>\n",
       "  </thead>\n",
       "  <tbody>\n",
       "    <tr>\n",
       "      <th>0</th>\n",
       "      <td>4.0</td>\n",
       "      <td>Rock ON!!!!!!!</td>\n",
       "      <td>Disturbed is a really disturbed band .... sort...</td>\n",
       "      <td>B00004R7NE</td>\n",
       "      <td>B00004R7NE</td>\n",
       "      <td>AHJSRXRPCML3OL234YKMWG7KCWHQ</td>\n",
       "      <td>1094703710000</td>\n",
       "      <td>Digital Music</td>\n",
       "      <td>The Sickness</td>\n",
       "      <td>4.8</td>\n",
       "      <td>1650</td>\n",
       "      <td>[A Chicago metal quartet, Disturbed has been d...</td>\n",
       "      <td>9.75</td>\n",
       "      <td>Disturbed   Format: Audio CD</td>\n",
       "      <td>[CDs &amp; Vinyl, Metal, Alternative Metal]</td>\n",
       "      <td>{'Is Discontinued By Manufacturer': 'No', 'Lan...</td>\n",
       "    </tr>\n",
       "    <tr>\n",
       "      <th>1</th>\n",
       "      <td>5.0</td>\n",
       "      <td>Awesome!!! saw em</td>\n",
       "      <td>I love Megadeth i saw them in concert with som...</td>\n",
       "      <td>B0002SPQ1I</td>\n",
       "      <td>B0002SPQ1I</td>\n",
       "      <td>AHJSRXRPCML3OL234YKMWG7KCWHQ</td>\n",
       "      <td>1099328870000</td>\n",
       "      <td>Digital Music</td>\n",
       "      <td>The System Has Failed</td>\n",
       "      <td>4.7</td>\n",
       "      <td>835</td>\n",
       "      <td>[Review, \"...raking riffs recapture the spider...</td>\n",
       "      <td>11.0</td>\n",
       "      <td>Megadeth   Format: Audio CD</td>\n",
       "      <td>[CDs &amp; Vinyl, Rock, Progressive, Progressive M...</td>\n",
       "      <td>{'Is Discontinued By Manufacturer': 'No', 'Lan...</td>\n",
       "    </tr>\n",
       "  </tbody>\n",
       "</table>\n",
       "</div>"
      ],
      "text/plain": [
       "   rating            title_x  \\\n",
       "0     4.0     Rock ON!!!!!!!   \n",
       "1     5.0  Awesome!!! saw em   \n",
       "\n",
       "                                                text        asin parent_asin  \\\n",
       "0  Disturbed is a really disturbed band .... sort...  B00004R7NE  B00004R7NE   \n",
       "1  I love Megadeth i saw them in concert with som...  B0002SPQ1I  B0002SPQ1I   \n",
       "\n",
       "                        user_id      timestamp  main_category  \\\n",
       "0  AHJSRXRPCML3OL234YKMWG7KCWHQ  1094703710000  Digital Music   \n",
       "1  AHJSRXRPCML3OL234YKMWG7KCWHQ  1099328870000  Digital Music   \n",
       "\n",
       "                 title_y  average_rating  rating_number  \\\n",
       "0           The Sickness             4.8           1650   \n",
       "1  The System Has Failed             4.7            835   \n",
       "\n",
       "                                         description price  \\\n",
       "0  [A Chicago metal quartet, Disturbed has been d...  9.75   \n",
       "1  [Review, \"...raking riffs recapture the spider...  11.0   \n",
       "\n",
       "                          store  \\\n",
       "0  Disturbed   Format: Audio CD   \n",
       "1   Megadeth   Format: Audio CD   \n",
       "\n",
       "                                          categories  \\\n",
       "0            [CDs & Vinyl, Metal, Alternative Metal]   \n",
       "1  [CDs & Vinyl, Rock, Progressive, Progressive M...   \n",
       "\n",
       "                                             details  \n",
       "0  {'Is Discontinued By Manufacturer': 'No', 'Lan...  \n",
       "1  {'Is Discontinued By Manufacturer': 'No', 'Lan...  "
      ]
     },
     "execution_count": 50,
     "metadata": {},
     "output_type": "execute_result"
    }
   ],
   "source": [
    "liked_items_train"
   ]
  },
  {
   "cell_type": "code",
   "execution_count": 51,
   "metadata": {},
   "outputs": [
    {
     "data": {
      "text/html": [
       "<div>\n",
       "<style scoped>\n",
       "    .dataframe tbody tr th:only-of-type {\n",
       "        vertical-align: middle;\n",
       "    }\n",
       "\n",
       "    .dataframe tbody tr th {\n",
       "        vertical-align: top;\n",
       "    }\n",
       "\n",
       "    .dataframe thead th {\n",
       "        text-align: right;\n",
       "    }\n",
       "</style>\n",
       "<table border=\"1\" class=\"dataframe\">\n",
       "  <thead>\n",
       "    <tr style=\"text-align: right;\">\n",
       "      <th></th>\n",
       "      <th>rating</th>\n",
       "      <th>title_x</th>\n",
       "      <th>text</th>\n",
       "      <th>asin</th>\n",
       "      <th>parent_asin</th>\n",
       "      <th>user_id</th>\n",
       "      <th>timestamp</th>\n",
       "      <th>main_category</th>\n",
       "      <th>title_y</th>\n",
       "      <th>average_rating</th>\n",
       "      <th>rating_number</th>\n",
       "      <th>description</th>\n",
       "      <th>price</th>\n",
       "      <th>store</th>\n",
       "      <th>categories</th>\n",
       "      <th>details</th>\n",
       "    </tr>\n",
       "  </thead>\n",
       "  <tbody>\n",
       "    <tr>\n",
       "      <th>0</th>\n",
       "      <td>1.0</td>\n",
       "      <td>Why can't real, good musicians make as much as...</td>\n",
       "      <td>Its a shame that every real musician that make...</td>\n",
       "      <td>B0007P3582</td>\n",
       "      <td>B0007P3582</td>\n",
       "      <td>AHJSRXRPCML3OL234YKMWG7KCWHQ</td>\n",
       "      <td>1111444785000</td>\n",
       "      <td>Digital Music</td>\n",
       "      <td>The Massacre       Explicit Lyrics</td>\n",
       "      <td>4.5</td>\n",
       "      <td>1493</td>\n",
       "      <td>[Product Description, 50 Cent's highly anticip...</td>\n",
       "      <td>10.98</td>\n",
       "      <td>50 Cent   Format: Audio CD</td>\n",
       "      <td>[CDs &amp; Vinyl, Rap &amp; Hip-Hop, East Coast]</td>\n",
       "      <td>{'Is Discontinued By Manufacturer': 'No', 'Pac...</td>\n",
       "    </tr>\n",
       "    <tr>\n",
       "      <th>1</th>\n",
       "      <td>2.0</td>\n",
       "      <td>Slut...................</td>\n",
       "      <td>She has become such a skank that no one even n...</td>\n",
       "      <td>B00065JTB0</td>\n",
       "      <td>B00065JTB0</td>\n",
       "      <td>AHJSRXRPCML3OL234YKMWG7KCWHQ</td>\n",
       "      <td>1104101842000</td>\n",
       "      <td>Digital Music</td>\n",
       "      <td>Speak</td>\n",
       "      <td>4.5</td>\n",
       "      <td>524</td>\n",
       "      <td>[Product Description, HAVING ALREADY HAD PRIOR...</td>\n",
       "      <td>21.86</td>\n",
       "      <td>Lindsay Lohan   Format: Audio CD</td>\n",
       "      <td>[CDs &amp; Vinyl, Pop, Teen Pop]</td>\n",
       "      <td>{'Is Discontinued By Manufacturer': 'No', 'Lan...</td>\n",
       "    </tr>\n",
       "  </tbody>\n",
       "</table>\n",
       "</div>"
      ],
      "text/plain": [
       "   rating                                            title_x  \\\n",
       "0     1.0  Why can't real, good musicians make as much as...   \n",
       "1     2.0                            Slut...................   \n",
       "\n",
       "                                                text        asin parent_asin  \\\n",
       "0  Its a shame that every real musician that make...  B0007P3582  B0007P3582   \n",
       "1  She has become such a skank that no one even n...  B00065JTB0  B00065JTB0   \n",
       "\n",
       "                        user_id      timestamp  main_category  \\\n",
       "0  AHJSRXRPCML3OL234YKMWG7KCWHQ  1111444785000  Digital Music   \n",
       "1  AHJSRXRPCML3OL234YKMWG7KCWHQ  1104101842000  Digital Music   \n",
       "\n",
       "                              title_y  average_rating  rating_number  \\\n",
       "0  The Massacre       Explicit Lyrics             4.5           1493   \n",
       "1                               Speak             4.5            524   \n",
       "\n",
       "                                         description  price  \\\n",
       "0  [Product Description, 50 Cent's highly anticip...  10.98   \n",
       "1  [Product Description, HAVING ALREADY HAD PRIOR...  21.86   \n",
       "\n",
       "                              store                                categories  \\\n",
       "0        50 Cent   Format: Audio CD  [CDs & Vinyl, Rap & Hip-Hop, East Coast]   \n",
       "1  Lindsay Lohan   Format: Audio CD              [CDs & Vinyl, Pop, Teen Pop]   \n",
       "\n",
       "                                             details  \n",
       "0  {'Is Discontinued By Manufacturer': 'No', 'Pac...  \n",
       "1  {'Is Discontinued By Manufacturer': 'No', 'Lan...  "
      ]
     },
     "execution_count": 51,
     "metadata": {},
     "output_type": "execute_result"
    }
   ],
   "source": [
    "disliked_items_train"
   ]
  },
  {
   "cell_type": "code",
   "execution_count": 52,
   "metadata": {},
   "outputs": [],
   "source": [
    "# from langchain_core.prompts import PromptTemplate\n",
    "\n",
    "PROMPT_USER_ITEM = \"\"\"\n",
    "Item: {title_item}\n",
    "Item category: {item_category}\n",
    "Description: {description}\n",
    "Price: ${price}\n",
    "Store: {store}\n",
    "Categories: {categories}\n",
    "User rating: {rating}\n",
    "User comment title: {title_comment}\n",
    "User comment: {text_comment}\n",
    "\"\"\"\n",
    "\n",
    "PROMPT_ITEM = \"\"\"\n",
    "Item: {title_item}\n",
    "Item category: {item_category}\n",
    "Description: {description}\n",
    "Price: ${price}\n",
    "Store: {store}\n",
    "Categories: {categories}\n",
    "\"\"\"\n",
    "\n",
    "\n",
    "def encode_item(item):\n",
    "    title_item = item[\"title_y\"]\n",
    "    item_category = item[\"main_category\"]\n",
    "    description = \" \".join(item[\"description\"])\n",
    "    price = item[\"price\"]\n",
    "    store = item[\"store\"]\n",
    "    categories = item[\"categories\"]\n",
    "\n",
    "    return {\n",
    "        \"title_item\": title_item,\n",
    "        \"item_category\": item_category,\n",
    "        \"description\": description,\n",
    "        \"price\": price,\n",
    "        \"store\": store,\n",
    "        \"categories\": categories,\n",
    "    }\n",
    "\n",
    "\n",
    "def encode_item_format(item):\n",
    "    item_info = encode_item(item)\n",
    "\n",
    "    return PROMPT_ITEM.format(\n",
    "        title_item=item_info[\"title_item\"],\n",
    "        item_category=item_info[\"item_category\"],\n",
    "        description=item_info[\"description\"],\n",
    "        price=item_info[\"price\"],\n",
    "        store=item_info[\"store\"],\n",
    "        categories=item_info[\"categories\"],\n",
    "    )\n",
    "\n",
    "\n",
    "def encode_user(user):\n",
    "    title_comment = user[\"title_x\"]\n",
    "    text_comment = user[\"text\"]\n",
    "    rating = user[\"rating\"]\n",
    "\n",
    "    return {\n",
    "        \"title_comment\": title_comment,\n",
    "        \"text_comment\": text_comment,\n",
    "        \"rating\": rating,\n",
    "    }\n",
    "\n",
    "\n",
    "def encode_item_user_format(item_user):\n",
    "    item_info = encode_item(item_user)\n",
    "    user_info = encode_user(item_user)\n",
    "\n",
    "    return PROMPT_USER_ITEM.format(\n",
    "        title_item=item_info[\"title_item\"],\n",
    "        item_category=item_info[\"item_category\"],\n",
    "        description=item_info[\"description\"],\n",
    "        price=item_info[\"price\"],\n",
    "        store=item_info[\"store\"],\n",
    "        categories=item_info[\"categories\"],\n",
    "        rating=user_info[\"rating\"],\n",
    "        title_comment=user_info[\"title_comment\"],\n",
    "        text_comment=user_info[\"text_comment\"],\n",
    "    )"
   ]
  },
  {
   "cell_type": "code",
   "execution_count": 53,
   "metadata": {},
   "outputs": [],
   "source": [
    "liked_items_train[\"encoded_item_user\"] = liked_items_train.apply(\n",
    "    encode_item_user_format, axis=1\n",
    ")\n",
    "disliked_items_train[\"encoded_item_user\"] = disliked_items_train.apply(\n",
    "    encode_item_user_format, axis=1\n",
    ")\n",
    "\n",
    "liked_items_test[\"encoded_item\"] = liked_items_test.apply(encode_item_format, axis=1)\n",
    "disliked_items_test[\"encoded_item\"] = disliked_items_test.apply(\n",
    "    encode_item_format, axis=1\n",
    ")"
   ]
  },
  {
   "cell_type": "code",
   "execution_count": 54,
   "metadata": {},
   "outputs": [],
   "source": [
    "liked_items_train_formatted = \"\\n\".join(\n",
    "    [\n",
    "        f\"ITEM {i}:{item}\"\n",
    "        for i, item in list(enumerate(liked_items_train[\"encoded_item_user\"].values))\n",
    "    ]\n",
    ")\n",
    "\n",
    "disliked_items_train_formatted = \"\\n\".join(\n",
    "    [\n",
    "        f\"ITEM {i}:{item}\"\n",
    "        for i, item in list(enumerate(disliked_items_train[\"encoded_item_user\"].values))\n",
    "    ]\n",
    ")"
   ]
  },
  {
   "cell_type": "code",
   "execution_count": 55,
   "metadata": {},
   "outputs": [
    {
     "name": "stdout",
     "output_type": "stream",
     "text": [
      "ITEM 0:\n",
      "Item: The Sickness\n",
      "Item category: Digital Music\n",
      "Description: A Chicago metal quartet, Disturbed has been driving fans in the Midwest wild with their frenetic, theatrical live show. On their debut album, The Sickness, the band combines an over-the-top metal groove appealing to the underground with radio-friendly melodic hooks that grab hold of mainstream rock fans. Disturbed is that rare hard group with street credibility and musical chops. Now that is truly disturbing. Certified Multi-Platinum (2 times) by the RIAA. (2/01)\n",
      "Price: $9.75\n",
      "Store: Disturbed   Format: Audio CD\n",
      "Categories: ['CDs & Vinyl', 'Metal', 'Alternative Metal']\n",
      "User rating: 4.0\n",
      "User comment title: Rock ON!!!!!!!\n",
      "User comment: Disturbed is a really disturbed band .... sort of.... Their songs are really melodic and have very brutal and strange lyrics. Their guitars are pounding with awesome riffs. All of their songs are strangly rock'n and asskick'n. Disturbed rocks\n",
      "\n",
      "ITEM 1:\n",
      "Item: The System Has Failed\n",
      "Item category: Digital Music\n",
      "Description: Review \"...raking riffs recapture the spidery grandiosity and gothic melodrama...Mustaine's paranoid, apocalyptic sneer hasn't sounded this relevant in years.\" -- Blender \"This is Megadeth's most vengeful, poignant, and musically complex offering since 1992's 'Countdown to Extinction'...4 stars\" -- Revolver ...best effort since Megadeth's 1990 speed-metal classic \"Rust In Peace.\" -- Entertainment Weekly Vintage Megadeth staple of cynical lyrics, chugging riffs and dueling guitar solos...also features rich vocal harmonies and string arrangements. -- Reuters\n",
      "Price: $11.0\n",
      "Store: Megadeth   Format: Audio CD\n",
      "Categories: ['CDs & Vinyl', 'Rock', 'Progressive', 'Progressive Metal']\n",
      "User rating: 5.0\n",
      "User comment title: Awesome!!! saw em\n",
      "User comment: I love Megadeth i saw them in concert with some band called Exodus. Megadeth was better and they rocked so hard my chest was vibrating!!! They played 3 or 4 songs of this album. I was pissed that they didnt play Blackmail the Universe!!! Even after the tour's name is Blackmail the Universe Tour. Well this cd is good all the tracks are awesome except for 11 that's a little retarded in the beginning. Oh, and if you didn't already know Dave (Mustaine) told the crowd that he's moving back to California after the tour ends. We were pissed because well he lives in Arizona and we want to live with him(in the same state) so every one was pissed at that. anyway's go and get this cd it's true metal! Not sum crappy Limp Bizsh*t like that one loser kid who posted that review said. And hey kid if your reading this then listen up, Megadeth is older than limp dipsh*t ok faggetty a** so they came up with metal first! Not sum stupid nu-metal rap crap stuff, and i hope that that kid goes to hell!!! enjoy the cd!!! hey im sorry about bein rude its just that i cant take someone makin fun of a band i love! and i cant stand anyone makin fun of me and callin me a retard so that person who did call me a retard iam a true fan you a-hole i went to one of their concerts!!! duh jackass!!! and you should feel lucky that you didnt put your real name or address on that review because sumthin really bad would of happened if you did!!!\n",
      "\n"
     ]
    }
   ],
   "source": [
    "print(liked_items_train_formatted)"
   ]
  },
  {
   "cell_type": "code",
   "execution_count": 56,
   "metadata": {},
   "outputs": [
    {
     "name": "stdout",
     "output_type": "stream",
     "text": [
      "ITEM 0:\n",
      "Item: The Massacre       Explicit Lyrics\n",
      "Item category: Digital Music\n",
      "Description: Product Description 50 Cent's highly anticipated follow-up to 'Get Rich Or DieTryin' features production by Dr. Dre and guest shots by Eminem, Lloyd Banks, and many more The first single 'Candy Shop' has been getting major radio airplay as well as 'Disco Inferno'. Aftermath. 2005. Amazon.com 50 Cent is now a full two dollars, according to pop culture exchange rates. His sheer influence on music charts, and thugs hearts, changed things. So why then on Massacre is the 'hood drama that one would think he'd want to leave behind even more front-and-center than on Get Rich or Die Tryin' ? It's hard to say, but 50's developed a questionable gun fetish here. With firearms plastered all over the liner notes, and throughout most of his lyrics--on \"In My Hood\" he retorts \"I don't go nowhere without my strap\"--apparently his nouveau rich status has only accelerated the number of enemies he's accumulated. On \"I'm Supposed to Die Tonight\" he even awkwardly forecasts Notorious B.I.G. -like, Tupac -ian rap game death scenarios. \"Piggy Bank,\" a virtual diss fest further cements his \"How to Rob\" persona as Nas and Fat Joe get the lyrical smack down; so does A-list actor Vivica Fox (\"Get In My Car\") for even daring to consider their rendezvous to be anything more than a fling. Despite beat contributions from Aftermath hombres (Eminem, Dr. Dre), some of the better beats come courtesy of lesser-known beatsmiths like Disco D (\"Ski Mask Way\") and the always consistent Hi-Tek, whose \"Ryder Music\" is a sick concoction of keys and haunting vocals. At 22 tracks (with no inane interludes), it's worth the loot, but it doesn't cover up 50's artistic regression since Get Rich . -- Dalton Higgins Co-Conspirators' Greatest Hits The Eminem Show , Eminem The Chronic , Dr. Dre Olivia , Olivia The Slim Shady LP , Eminem Hi-Teknology , Hi-Tek Straight out tha Trunk , Disco D\n",
      "Price: $10.98\n",
      "Store: 50 Cent   Format: Audio CD\n",
      "Categories: ['CDs & Vinyl', 'Rap & Hip-Hop', 'East Coast']\n",
      "User rating: 1.0\n",
      "User comment title: Why can't real, good musicians make as much as this loser????\n",
      "User comment: Its a shame that every real musician that makes good music, doesn't make a lot of money, when this loser who has absolutly no talent, makes millions because all these idiots will buy his crap, and they will wear his clothing, and steal stuff and try to be cool. It just sickens me that real good taught guitar players and drummers dont get any respect and losers like 50 cent do. Rap is not music its just talentless noise, anyone can rap. Just listen to me, ok cause if anyone says it takes talent to rap, is a total moron, or they are in special ed. Rap sucks!!! Go and listen to something that is actually music, losers, if you like rap, you are just an idiot. and these rappers get these Grammys and stuff, for what??? Acting like a punk, and getting wasted and getting women? Why hasn't Shadows Fall gotten a Grammy yet? They are real musicians, they can actually play instruments. Rap just sickens me, its the dumbest thing on earth, and it sickens me that people actually listen to it. RAP IS CRAP!!!!!!!!!!!!!!!!<br /><br />\"Music is melody\" so if rap has no melody, which it doesn't, that means its not music.\n",
      "\n",
      "ITEM 1:\n",
      "Item: Speak\n",
      "Item category: Digital Music\n",
      "Description: Product Description HAVING ALREADY HAD PRIOR SONGS ON THE SOUNDTRACKS FOR \"MEAN GIRLS\" AND \"THE PRINCESS DIARIES 2,\" LINDSAY LOHAN'S DEBUT ALBUM HITS THE STREETS ON DECEMBER 7TH FOR THE 2004 HOLIDAY SEASON. Amazon.com Lindsay Lohan leaps into her much anticipated debut CD with a blast of something that simulates warmed-over Led Zeppelin (the lyrically ferocious \"First\") and from there finesses it into a stylish experiment in pounding away at teen pop's predictability. Influences--not all of whom her 8-to-14-year-old fans will flip to, or even find, in their pinup mags--loom large: While the Ashlee Simpson -like rocker \"Nobody 'Til You\" winds into the Jessica Simpson -y \"Symptoms of You,\" the lovelorn \"Something I Never Had,\" taps a sweetly unself-conscious vocal vein that owes gratitude to the otherwise highly un-Lohan-like Lisa Loeb . Though Lohan might balk at the comparison--she is, after all, the \"Ultimate\"-spawning original teenage drama queen--fellow tween queen Hilary Duff 's stamp is pressed firmly into stormy self-explorers like \"Disconnected\" and \"Anything But Me.\" Where \"Speak\" intones loudest, though, is in its least-rocking, most beat-propelled songs: The title track dips and bounces tantalizingly, begging hands-in-the-air listeners to \"c'mon and let it out\"; \"To Know Your Name\" digitizes a sexy hip-hop inflected dance number; and \"Rumors,\" a J. Lo -like thumper (and one in a trifecta of pouts over the pitfalls of stardom) ends this disc on a don't-stop, bound-for-diva-dom note. -Tammy La Gorce About the Artist In 2003, Lindsay starred in Disneys remake of Freaky Friday, a role that was originated by Jodie Foster. Lindsay starred opposite Jamie Lee Curtis, who recently received a 2004 Golden Globe Nomination for her role in the film. Lindsay also appears on the movies soundtrack singing the main theme song, Ultimate. Lindsay recently starred in Disneys Confessions of a Teenage Drama Queen, in which she also can be heard singing two of the songs for the movies soundtrack and also starred in Paramounts Mean Girls directed by Mark Waters and written by Tina Fey. She recently hosted the \"2004 MTV Movie Awards\" and won the award for Female Breakout Out Star. Lindsay is currently in production on Disneys remake of Herbie, the Love Bug, titled HERBIE: Fully Loaded directed by Angela Robinson. Her upcoming projects include Lady Luck, directed by Donald Petrie for Fox-Regency, and she star and co-produce the Paramount project, Fashionistas. Lindsay is following her music aspirations and has recently signed with Tommy Mottolas Casablanca Records. Lindsay was born on Long Island, New York and separates her time between Los Angeles and New York. See more\n",
      "Price: $21.86\n",
      "Store: Lindsay Lohan   Format: Audio CD\n",
      "Categories: ['CDs & Vinyl', 'Pop', 'Teen Pop']\n",
      "User rating: 2.0\n",
      "User comment title: Slut...................\n",
      "User comment: She has become such a skank that no one even notices it. She sings ok. Soon she'll be posing nude in a [...] ad or somthing. I gave this 2 stars because she's pretty hot!\n",
      "\n"
     ]
    }
   ],
   "source": [
    "print(disliked_items_train_formatted)"
   ]
  },
  {
   "cell_type": "code",
   "execution_count": 75,
   "metadata": {},
   "outputs": [],
   "source": [
    "from pydantic import BaseModel\n",
    "\n",
    "\n",
    "class Answer(BaseModel):\n",
    "    explanation: str\n",
    "    score: int\n",
    "\n",
    "\n",
    "PROMPT_USER = \"\"\" \n",
    "You are a user in a marketplace. Given the following context about items you have interacted with, consider your score to predict if you like or dislike the new itens.\n",
    "Your answer will be an JSON with two fields: 'explanation' and 'score'. explanation will be a concise rationale about your decision and score will be a integer from 1 to 5, where 1 is dislike and 5 is like.\n",
    "Don't assume anything about the user that can't be inferred from the context.\n",
    "Items who you liked:\n",
    "{liked_items}\n",
    "\n",
    "Items who you disliked:\n",
    "{disliked_items}\n",
    "\n",
    "New item:\n",
    "{new_items}\n",
    "\n",
    "Answer:\n",
    "\"\"\"\n",
    "\n",
    "prompt = PROMPT_USER.format(\n",
    "    liked_items=liked_items_train_formatted,\n",
    "    disliked_items=disliked_items_train_formatted,\n",
    "    new_items=disliked_items_test[\"encoded_item\"].values[0],\n",
    ")"
   ]
  },
  {
   "cell_type": "markdown",
   "metadata": {},
   "source": [
    "## Inference"
   ]
  },
  {
   "cell_type": "code",
   "execution_count": 76,
   "metadata": {},
   "outputs": [
    {
     "data": {
      "text/plain": [
       "2512"
      ]
     },
     "execution_count": 76,
     "metadata": {},
     "output_type": "execute_result"
    }
   ],
   "source": [
    "import tiktoken\n",
    "\n",
    "tokenizer = tiktoken.get_encoding(\"o200k_base\")\n",
    "\n",
    "len(tokenizer.encode(prompt))"
   ]
  },
  {
   "cell_type": "code",
   "execution_count": 77,
   "metadata": {},
   "outputs": [],
   "source": [
    "structured_llm = openai.with_structured_output(Answer, method=\"json_mode\")\n",
    "answer = structured_llm.invoke(prompt)"
   ]
  },
  {
   "cell_type": "code",
   "execution_count": 78,
   "metadata": {},
   "outputs": [
    {
     "name": "stdout",
     "output_type": "stream",
     "text": [
      "Explanation: Based on your previous interactions, you have shown a strong preference for heavy metal and hard rock music, as evidenced by your positive ratings for Disturbed and Megadeth. Nickelback, while popular, is often viewed as more mainstream and less heavy than the bands you liked. Given your dislike for rap and pop music, it's likely that you may not appreciate Nickelback's sound as much as the heavier genres you prefer.\n",
      "Score: 2\n"
     ]
    }
   ],
   "source": [
    "print(\"Explanation:\", answer.explanation)\n",
    "print(\"Score:\", answer.score)"
   ]
  },
  {
   "cell_type": "markdown",
   "metadata": {},
   "source": [
    "## Evaluation\n",
    "\n",
    "Evaluation comparasion with sample x no sample"
   ]
  },
  {
   "cell_type": "code",
   "execution_count": 96,
   "metadata": {},
   "outputs": [],
   "source": [
    "from typing import List\n",
    "\n",
    "from sklearn.metrics import accuracy_score, precision_score, recall_score, f1_score\n",
    "from sklearn.metrics import mean_absolute_error, mean_squared_error\n",
    "\n",
    "# warning level\n",
    "import warnings\n",
    "\n",
    "warnings.filterwarnings(\"ignore\")\n",
    "\n",
    "\n",
    "def compute_metrics(y_true: List[int], y_pred: List[int]):\n",
    "\n",
    "    accuracy = accuracy_score(y_true, y_pred)\n",
    "    precision = precision_score(y_true, y_pred, average=\"weighted\")\n",
    "    recall = recall_score(y_true, y_pred, average=\"weighted\")\n",
    "    f1 = f1_score(y_true, y_pred, average=\"weighted\")\n",
    "    mae = mean_absolute_error(y_true, y_pred)\n",
    "    mse = mean_squared_error(y_true, y_pred)\n",
    "\n",
    "    return {\n",
    "        \"accuracy\": accuracy,\n",
    "        \"precision\": precision,\n",
    "        \"recall\": recall,\n",
    "        \"f1\": f1,\n",
    "        \"mae\": mae,\n",
    "        \"mse\": mse,\n",
    "    }"
   ]
  },
  {
   "cell_type": "markdown",
   "metadata": {},
   "source": [
    "### With sample"
   ]
  },
  {
   "cell_type": "code",
   "execution_count": 102,
   "metadata": {},
   "outputs": [
    {
     "data": {
      "text/plain": [
       "{'accuracy': 0.6666666666666666,\n",
       " 'precision': 0.5,\n",
       " 'recall': 0.6666666666666666,\n",
       " 'f1': 0.5555555555555555,\n",
       " 'mae': 0.3333333333333333,\n",
       " 'mse': 0.3333333333333333}"
      ]
     },
     "execution_count": 102,
     "metadata": {},
     "output_type": "execute_result"
    }
   ],
   "source": [
    "prompts_test_negative = [\n",
    "    PROMPT_USER.format(\n",
    "        liked_items=liked_items_train_formatted,\n",
    "        disliked_items=disliked_items_train_formatted,\n",
    "        new_items=item,\n",
    "    )\n",
    "    for item in disliked_items_test[\"encoded_item\"].values\n",
    "]\n",
    "\n",
    "prompts_test_positive = [\n",
    "    PROMPT_USER.format(\n",
    "        liked_items=liked_items_train_formatted,\n",
    "        disliked_items=disliked_items_train_formatted,\n",
    "        new_items=item,\n",
    "    )\n",
    "    for item in liked_items_test[\"encoded_item\"].values\n",
    "]\n",
    "\n",
    "answers_positive = structured_llm.batch(prompts_test_positive)\n",
    "answers_negative = structured_llm.batch(prompts_test_negative)\n",
    "\n",
    "y_pred = [answer.score for answer in answers_positive] + [\n",
    "    answer.score for answer in answers_negative\n",
    "]\n",
    "y_true = liked_items_test[\"rating\"].tolist() + disliked_items_test[\"rating\"].tolist()\n",
    "\n",
    "metrics_sample = compute_metrics(y_true, y_pred)\n",
    "\n",
    "metrics_sample"
   ]
  },
  {
   "cell_type": "markdown",
   "metadata": {},
   "source": [
    "### No sample"
   ]
  },
  {
   "cell_type": "code",
   "execution_count": 103,
   "metadata": {},
   "outputs": [
    {
     "data": {
      "text/plain": [
       "{'accuracy': 0.0,\n",
       " 'precision': 0.0,\n",
       " 'recall': 0.0,\n",
       " 'f1': 0.0,\n",
       " 'mae': 1.3333333333333333,\n",
       " 'mse': 2.0}"
      ]
     },
     "execution_count": 103,
     "metadata": {},
     "output_type": "execute_result"
    }
   ],
   "source": [
    "prompts_test_negative = [\n",
    "    PROMPT_USER.format(\n",
    "        liked_items=\"No information available about this user.\",\n",
    "        disliked_items=\"No information available about this user.\",\n",
    "        new_items=item,\n",
    "    )\n",
    "    for item in disliked_items_test[\"encoded_item\"].values\n",
    "]\n",
    "\n",
    "prompts_test_positive = [\n",
    "    PROMPT_USER.format(\n",
    "        liked_items=\"No information available about this user.\",\n",
    "        disliked_items=\"No information available about this user.\",\n",
    "        new_items=item,\n",
    "    )\n",
    "    for item in liked_items_test[\"encoded_item\"].values\n",
    "]\n",
    "\n",
    "answers_positive = structured_llm.batch(prompts_test_positive)\n",
    "answers_negative = structured_llm.batch(prompts_test_negative)\n",
    "\n",
    "y_pred = [answer.score for answer in answers_positive] + [\n",
    "    answer.score for answer in answers_negative\n",
    "]\n",
    "y_true = liked_items_test[\"rating\"].tolist() + disliked_items_test[\"rating\"].tolist()\n",
    "\n",
    "metrics_no_sample = compute_metrics(y_true, y_pred)\n",
    "\n",
    "metrics_no_sample"
   ]
  },
  {
   "cell_type": "markdown",
   "metadata": {},
   "source": [
    "## Generate Graphic"
   ]
  },
  {
   "cell_type": "code",
   "execution_count": 106,
   "metadata": {},
   "outputs": [
    {
     "data": {
      "image/png": "[encoded data removed]",
      "text/plain": [
       "<Figure size 1000x600 with 1 Axes>"
      ]
     },
     "metadata": {},
     "output_type": "display_data"
    }
   ],
   "source": [
    "import matplotlib.pyplot as plt\n",
    "\n",
    "metrics = pd.DataFrame(\n",
    "    [metrics_sample, metrics_no_sample],\n",
    "    index=[\"Sample\", \"No Sample\"],\n",
    ")\n",
    "\n",
    "metrics.plot(kind=\"bar\", figsize=(10, 6))\n",
    "# y rotation\n",
    "plt.xticks(rotation=0)\n",
    "plt.title(\"Metrics comparison\")\n",
    "plt.ylabel(\"Score\")\n",
    "plt.show()"
   ]
  }
 ],
 "metadata": {
  "kernelspec": {
   "display_name": "ml_base_310",
   "language": "python",
   "name": "python3"
  },
  "language_info": {
   "codemirror_mode": {
    "name": "ipython",
    "version": 3
   },
   "file_extension": ".py",
   "mimetype": "text/x-python",
   "name": "python",
   "nbconvert_exporter": "python",
   "pygments_lexer": "ipython3",
   "version": "3.10.15"
  }
 },
 "nbformat": 4,
 "nbformat_minor": 2
}
