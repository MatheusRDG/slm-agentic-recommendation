{
 "cells": [
  {
   "cell_type": "markdown",
   "metadata": {},
   "source": [
    "# Collaborative Recommendation"
   ]
  },
  {
   "cell_type": "code",
   "execution_count": 1,
   "metadata": {},
   "outputs": [
    {
     "data": {
      "text/plain": [
       "True"
      ]
     },
     "execution_count": 1,
     "metadata": {},
     "output_type": "execute_result"
    }
   ],
   "source": [
    "from dotenv import load_dotenv\n",
    "\n",
    "load_dotenv()"
   ]
  },
  {
   "cell_type": "code",
   "execution_count": 2,
   "metadata": {},
   "outputs": [],
   "source": [
    "import pandas as pd\n",
    "import numpy as np\n",
    "import random\n",
    "\n",
    "# fix seeds\n",
    "random.seed(42)\n",
    "np.random.seed(42)"
   ]
  },
  {
   "cell_type": "markdown",
   "metadata": {},
   "source": [
    "## Load data"
   ]
  },
  {
   "cell_type": "code",
   "execution_count": 3,
   "metadata": {},
   "outputs": [],
   "source": [
    "data = pd.read_csv(\"../data/cd_and_vinyl/dense_subset.csv\")\n",
    "data_items = pd.read_json(\"../data/cd_and_vinyl/meta_CDs_and_Vinyl.jsonl\", lines=True)"
   ]
  },
  {
   "cell_type": "markdown",
   "metadata": {},
   "source": [
    "## Sample User and Items"
   ]
  },
  {
   "cell_type": "code",
   "execution_count": 47,
   "metadata": {},
   "outputs": [],
   "source": [
    "sample_user = (\n",
    "    data.query(f\"user_id == '{data.sample(1, random_state=45)['user_id'].values[0]}'\")\n",
    "    .drop_duplicates()\n",
    "    .drop(columns=[\"images\", \"helpful_vote\", \"verified_purchase\"])\n",
    ")"
   ]
  },
  {
   "cell_type": "code",
   "execution_count": 48,
   "metadata": {},
   "outputs": [],
   "source": [
    "items_user = data_items.query(\"parent_asin in @sample_user['parent_asin'].values\").drop(\n",
    "    columns=[\"features\", \"images\", \"videos\", \"bought_together\", \"subtitle\", \"author\"]\n",
    ")"
   ]
  },
  {
   "cell_type": "markdown",
   "metadata": {},
   "source": [
    "## Agents"
   ]
  },
  {
   "cell_type": "code",
   "execution_count": 49,
   "metadata": {},
   "outputs": [],
   "source": [
    "# from langchain_ollama import ChatOllama\n",
    "from langchain_openai import ChatOpenAI\n",
    "\n",
    "# ollama = ChatOllama(model=\"phi3:3.8b\")\n",
    "openai = ChatOpenAI(model=\"gpt-4o-mini\", temperature=0.1)"
   ]
  },
  {
   "cell_type": "code",
   "execution_count": 51,
   "metadata": {},
   "outputs": [],
   "source": [
    "# Train / Test\n",
    "liked_items = sample_user.query(\"rating > 3\")\n",
    "liked_items_train = liked_items.sample(2, random_state=42)\n",
    "liked_items_test = liked_items.drop(liked_items_train.index).sample(2, random_state=42)\n",
    "\n",
    "disliked_items = sample_user.query(\"rating < 3\")\n",
    "disliked_items_train = disliked_items.sample(2, random_state=42)\n",
    "disliked_items_test = disliked_items.drop(disliked_items_train.index).sample(\n",
    "    2, random_state=42\n",
    ")"
   ]
  },
  {
   "cell_type": "code",
   "execution_count": 52,
   "metadata": {},
   "outputs": [],
   "source": [
    "liked_items_train = liked_items_train.merge(items_user, on=\"parent_asin\")\n",
    "liked_items_test = liked_items_test.merge(items_user, on=\"parent_asin\")\n",
    "\n",
    "disliked_items_train = disliked_items_train.merge(items_user, on=\"parent_asin\")\n",
    "disliked_items_test = disliked_items_test.merge(items_user, on=\"parent_asin\")"
   ]
  },
  {
   "cell_type": "code",
   "execution_count": 53,
   "metadata": {},
   "outputs": [
    {
     "data": {
      "text/html": [
       "<div>\n",
       "<style scoped>\n",
       "    .dataframe tbody tr th:only-of-type {\n",
       "        vertical-align: middle;\n",
       "    }\n",
       "\n",
       "    .dataframe tbody tr th {\n",
       "        vertical-align: top;\n",
       "    }\n",
       "\n",
       "    .dataframe thead th {\n",
       "        text-align: right;\n",
       "    }\n",
       "</style>\n",
       "<table border=\"1\" class=\"dataframe\">\n",
       "  <thead>\n",
       "    <tr style=\"text-align: right;\">\n",
       "      <th></th>\n",
       "      <th>rating</th>\n",
       "      <th>title_x</th>\n",
       "      <th>text</th>\n",
       "      <th>asin</th>\n",
       "      <th>parent_asin</th>\n",
       "      <th>user_id</th>\n",
       "      <th>timestamp</th>\n",
       "      <th>main_category</th>\n",
       "      <th>title_y</th>\n",
       "      <th>average_rating</th>\n",
       "      <th>rating_number</th>\n",
       "      <th>description</th>\n",
       "      <th>price</th>\n",
       "      <th>store</th>\n",
       "      <th>categories</th>\n",
       "      <th>details</th>\n",
       "    </tr>\n",
       "  </thead>\n",
       "  <tbody>\n",
       "    <tr>\n",
       "      <th>0</th>\n",
       "      <td>5.0</td>\n",
       "      <td>To Fred Dursts fan</td>\n",
       "      <td>YOU SUCK! If you knew anything about metal you...</td>\n",
       "      <td>B0002EXH5O</td>\n",
       "      <td>B0002EXH5O</td>\n",
       "      <td>AGDX6GPEK772FFKOWYJVJRLKWTRQ</td>\n",
       "      <td>1121869919000</td>\n",
       "      <td>Digital Music</td>\n",
       "      <td>Rust In Peace</td>\n",
       "      <td>4.8</td>\n",
       "      <td>2861</td>\n",
       "      <td>[This re-issue features four previously unrele...</td>\n",
       "      <td>12.51</td>\n",
       "      <td>Megadeth   Format: Audio CD</td>\n",
       "      <td>[CDs &amp; Vinyl, Rock, Progressive, Progressive M...</td>\n",
       "      <td>{'Is Discontinued By Manufacturer': 'No', 'Pro...</td>\n",
       "    </tr>\n",
       "    <tr>\n",
       "      <th>1</th>\n",
       "      <td>5.0</td>\n",
       "      <td>Rock is forever in debt to Pearl Jam</td>\n",
       "      <td>Why? Well it should be obvious. From '89 to '9...</td>\n",
       "      <td>B0000027RL</td>\n",
       "      <td>B0000027RL</td>\n",
       "      <td>AGDX6GPEK772FFKOWYJVJRLKWTRQ</td>\n",
       "      <td>1125577991000</td>\n",
       "      <td>Digital Music</td>\n",
       "      <td>Ten</td>\n",
       "      <td>4.8</td>\n",
       "      <td>9044</td>\n",
       "      <td>[Product description, Huge debut album from 19...</td>\n",
       "      <td>8.98</td>\n",
       "      <td>Pearl Jam   Format: Audio CD</td>\n",
       "      <td>[CDs &amp; Vinyl, Pop, Adult Alternative]</td>\n",
       "      <td>{'Is Discontinued By Manufacturer': 'No', 'Lan...</td>\n",
       "    </tr>\n",
       "  </tbody>\n",
       "</table>\n",
       "</div>"
      ],
      "text/plain": [
       "   rating                               title_x  \\\n",
       "0     5.0                    To Fred Dursts fan   \n",
       "1     5.0  Rock is forever in debt to Pearl Jam   \n",
       "\n",
       "                                                text        asin parent_asin  \\\n",
       "0  YOU SUCK! If you knew anything about metal you...  B0002EXH5O  B0002EXH5O   \n",
       "1  Why? Well it should be obvious. From '89 to '9...  B0000027RL  B0000027RL   \n",
       "\n",
       "                        user_id      timestamp  main_category        title_y  \\\n",
       "0  AGDX6GPEK772FFKOWYJVJRLKWTRQ  1121869919000  Digital Music  Rust In Peace   \n",
       "1  AGDX6GPEK772FFKOWYJVJRLKWTRQ  1125577991000  Digital Music            Ten   \n",
       "\n",
       "   average_rating  rating_number  \\\n",
       "0             4.8           2861   \n",
       "1             4.8           9044   \n",
       "\n",
       "                                         description  price  \\\n",
       "0  [This re-issue features four previously unrele...  12.51   \n",
       "1  [Product description, Huge debut album from 19...   8.98   \n",
       "\n",
       "                          store  \\\n",
       "0   Megadeth   Format: Audio CD   \n",
       "1  Pearl Jam   Format: Audio CD   \n",
       "\n",
       "                                          categories  \\\n",
       "0  [CDs & Vinyl, Rock, Progressive, Progressive M...   \n",
       "1              [CDs & Vinyl, Pop, Adult Alternative]   \n",
       "\n",
       "                                             details  \n",
       "0  {'Is Discontinued By Manufacturer': 'No', 'Pro...  \n",
       "1  {'Is Discontinued By Manufacturer': 'No', 'Lan...  "
      ]
     },
     "execution_count": 53,
     "metadata": {},
     "output_type": "execute_result"
    }
   ],
   "source": [
    "liked_items_test"
   ]
  },
  {
   "cell_type": "code",
   "execution_count": 54,
   "metadata": {},
   "outputs": [
    {
     "data": {
      "text/html": [
       "<div>\n",
       "<style scoped>\n",
       "    .dataframe tbody tr th:only-of-type {\n",
       "        vertical-align: middle;\n",
       "    }\n",
       "\n",
       "    .dataframe tbody tr th {\n",
       "        vertical-align: top;\n",
       "    }\n",
       "\n",
       "    .dataframe thead th {\n",
       "        text-align: right;\n",
       "    }\n",
       "</style>\n",
       "<table border=\"1\" class=\"dataframe\">\n",
       "  <thead>\n",
       "    <tr style=\"text-align: right;\">\n",
       "      <th></th>\n",
       "      <th>rating</th>\n",
       "      <th>title_x</th>\n",
       "      <th>text</th>\n",
       "      <th>asin</th>\n",
       "      <th>parent_asin</th>\n",
       "      <th>user_id</th>\n",
       "      <th>timestamp</th>\n",
       "      <th>main_category</th>\n",
       "      <th>title_y</th>\n",
       "      <th>average_rating</th>\n",
       "      <th>rating_number</th>\n",
       "      <th>description</th>\n",
       "      <th>price</th>\n",
       "      <th>store</th>\n",
       "      <th>categories</th>\n",
       "      <th>details</th>\n",
       "    </tr>\n",
       "  </thead>\n",
       "  <tbody>\n",
       "    <tr>\n",
       "      <th>0</th>\n",
       "      <td>1.0</td>\n",
       "      <td>Now that the Green Day fad is finally starting...</td>\n",
       "      <td>I told you, just read any 1 star reviews and y...</td>\n",
       "      <td>B000002MP2</td>\n",
       "      <td>B000002MP2</td>\n",
       "      <td>AGDX6GPEK772FFKOWYJVJRLKWTRQ</td>\n",
       "      <td>1128113818000</td>\n",
       "      <td>Digital Music</td>\n",
       "      <td>Dookie</td>\n",
       "      <td>4.8</td>\n",
       "      <td>3986</td>\n",
       "      <td>[Product Description, Certified at 10 million ...</td>\n",
       "      <td>9.0</td>\n",
       "      <td>Green Day   Format: Audio CD</td>\n",
       "      <td>[CDs &amp; Vinyl, Indie &amp; Alternative, Alternative...</td>\n",
       "      <td>{'Is Discontinued By Manufacturer': 'No', 'Lan...</td>\n",
       "    </tr>\n",
       "    <tr>\n",
       "      <th>1</th>\n",
       "      <td>1.0</td>\n",
       "      <td>Rap should take out a restraining order agains...</td>\n",
       "      <td>So, here it is. The follow up to that damned t...</td>\n",
       "      <td>B0007P3582</td>\n",
       "      <td>B0007P3582</td>\n",
       "      <td>AGDX6GPEK772FFKOWYJVJRLKWTRQ</td>\n",
       "      <td>1121691341000</td>\n",
       "      <td>Digital Music</td>\n",
       "      <td>The Massacre       Explicit Lyrics</td>\n",
       "      <td>4.5</td>\n",
       "      <td>1493</td>\n",
       "      <td>[Product Description, 50 Cent's highly anticip...</td>\n",
       "      <td>10.98</td>\n",
       "      <td>50 Cent   Format: Audio CD</td>\n",
       "      <td>[CDs &amp; Vinyl, Rap &amp; Hip-Hop, East Coast]</td>\n",
       "      <td>{'Is Discontinued By Manufacturer': 'No', 'Pac...</td>\n",
       "    </tr>\n",
       "  </tbody>\n",
       "</table>\n",
       "</div>"
      ],
      "text/plain": [
       "   rating                                            title_x  \\\n",
       "0     1.0  Now that the Green Day fad is finally starting...   \n",
       "1     1.0  Rap should take out a restraining order agains...   \n",
       "\n",
       "                                                text        asin parent_asin  \\\n",
       "0  I told you, just read any 1 star reviews and y...  B000002MP2  B000002MP2   \n",
       "1  So, here it is. The follow up to that damned t...  B0007P3582  B0007P3582   \n",
       "\n",
       "                        user_id      timestamp  main_category  \\\n",
       "0  AGDX6GPEK772FFKOWYJVJRLKWTRQ  1128113818000  Digital Music   \n",
       "1  AGDX6GPEK772FFKOWYJVJRLKWTRQ  1121691341000  Digital Music   \n",
       "\n",
       "                              title_y  average_rating  rating_number  \\\n",
       "0                              Dookie             4.8           3986   \n",
       "1  The Massacre       Explicit Lyrics             4.5           1493   \n",
       "\n",
       "                                         description  price  \\\n",
       "0  [Product Description, Certified at 10 million ...    9.0   \n",
       "1  [Product Description, 50 Cent's highly anticip...  10.98   \n",
       "\n",
       "                          store  \\\n",
       "0  Green Day   Format: Audio CD   \n",
       "1    50 Cent   Format: Audio CD   \n",
       "\n",
       "                                          categories  \\\n",
       "0  [CDs & Vinyl, Indie & Alternative, Alternative...   \n",
       "1           [CDs & Vinyl, Rap & Hip-Hop, East Coast]   \n",
       "\n",
       "                                             details  \n",
       "0  {'Is Discontinued By Manufacturer': 'No', 'Lan...  \n",
       "1  {'Is Discontinued By Manufacturer': 'No', 'Pac...  "
      ]
     },
     "execution_count": 54,
     "metadata": {},
     "output_type": "execute_result"
    }
   ],
   "source": [
    "disliked_items_train"
   ]
  },
  {
   "cell_type": "code",
   "execution_count": 55,
   "metadata": {},
   "outputs": [],
   "source": [
    "# from langchain_core.prompts import PromptTemplate\n",
    "\n",
    "PROMPT_USER_ITEM = \"\"\"\n",
    "Item: {title_item}\n",
    "Item category: {item_category}\n",
    "Description: {description}\n",
    "Price: ${price}\n",
    "Store: {store}\n",
    "Categories: {categories}\n",
    "User rating: {rating}\n",
    "User comment title: {title_comment}\n",
    "User comment: {text_comment}\n",
    "\"\"\"\n",
    "\n",
    "PROMPT_ITEM = \"\"\"\n",
    "Item: {title_item}\n",
    "Item category: {item_category}\n",
    "Description: {description}\n",
    "Price: ${price}\n",
    "Store: {store}\n",
    "Categories: {categories}\n",
    "\"\"\"\n",
    "\n",
    "\n",
    "def encode_item(item):\n",
    "    title_item = item[\"title_y\"]\n",
    "    item_category = item[\"main_category\"]\n",
    "    description = \" \".join(item[\"description\"])\n",
    "    price = item[\"price\"]\n",
    "    store = item[\"store\"]\n",
    "    categories = item[\"categories\"]\n",
    "\n",
    "    return {\n",
    "        \"title_item\": title_item,\n",
    "        \"item_category\": item_category,\n",
    "        \"description\": description,\n",
    "        \"price\": price,\n",
    "        \"store\": store,\n",
    "        \"categories\": categories,\n",
    "    }\n",
    "\n",
    "\n",
    "def encode_item_format(item):\n",
    "    item_info = encode_item(item)\n",
    "\n",
    "    return PROMPT_ITEM.format(\n",
    "        title_item=item_info[\"title_item\"],\n",
    "        item_category=item_info[\"item_category\"],\n",
    "        description=item_info[\"description\"],\n",
    "        price=item_info[\"price\"],\n",
    "        store=item_info[\"store\"],\n",
    "        categories=item_info[\"categories\"],\n",
    "    )\n",
    "\n",
    "\n",
    "def encode_user(user):\n",
    "    title_comment = user[\"title_x\"]\n",
    "    text_comment = user[\"text\"]\n",
    "    rating = user[\"rating\"]\n",
    "\n",
    "    return {\n",
    "        \"title_comment\": title_comment,\n",
    "        \"text_comment\": text_comment,\n",
    "        \"rating\": rating,\n",
    "    }\n",
    "\n",
    "\n",
    "def encode_item_user_format(item_user):\n",
    "    item_info = encode_item(item_user)\n",
    "    user_info = encode_user(item_user)\n",
    "\n",
    "    return PROMPT_USER_ITEM.format(\n",
    "        title_item=item_info[\"title_item\"],\n",
    "        item_category=item_info[\"item_category\"],\n",
    "        description=item_info[\"description\"],\n",
    "        price=item_info[\"price\"],\n",
    "        store=item_info[\"store\"],\n",
    "        categories=item_info[\"categories\"],\n",
    "        rating=user_info[\"rating\"],\n",
    "        title_comment=user_info[\"title_comment\"],\n",
    "        text_comment=user_info[\"text_comment\"],\n",
    "    )"
   ]
  },
  {
   "cell_type": "code",
   "execution_count": 57,
   "metadata": {},
   "outputs": [],
   "source": [
    "liked_items_train[\"encoded_item_user\"] = liked_items_train.apply(\n",
    "    lambda row: encode_item_user_format(row), axis=1\n",
    ")\n",
    "disliked_items_train[\"encoded_item_user\"] = disliked_items_train.apply(\n",
    "    lambda row: encode_item_user_format(row), axis=1\n",
    ")\n",
    "\n",
    "liked_items_test[\"encoded_item\"] = liked_items_test.apply(\n",
    "    lambda row: encode_item_format(row), axis=1\n",
    ")\n",
    "disliked_items_test[\"encoded_item\"] = disliked_items_test.apply(\n",
    "    lambda row: encode_item_format(row), axis=1\n",
    ")"
   ]
  },
  {
   "cell_type": "code",
   "execution_count": 58,
   "metadata": {},
   "outputs": [],
   "source": [
    "liked_items_train_formatted = \"\\n\".join(\n",
    "    [\n",
    "        f\"ITEM {i}:{item}\"\n",
    "        for i, item in list(enumerate(liked_items_train[\"encoded_item_user\"].values))\n",
    "    ]\n",
    ")\n",
    "\n",
    "disliked_items_train_formatted = \"\\n\".join(\n",
    "    [\n",
    "        f\"ITEM {i}:{item}\"\n",
    "        for i, item in list(enumerate(disliked_items_train[\"encoded_item_user\"].values))\n",
    "    ]\n",
    ")"
   ]
  },
  {
   "cell_type": "code",
   "execution_count": 59,
   "metadata": {},
   "outputs": [
    {
     "name": "stdout",
     "output_type": "stream",
     "text": [
      "ITEM 0:\n",
      "Item: In Utero       Explicit Lyrics\n",
      "Item category: Digital Music\n",
      "Description: Product description NIRVANA - IN UTERO We receive various CDs from the radio cores that we remanufacture. As a result, we are are now selling them! Our CDs are professionally resurfaced and are guaranteed to work or your money back! These listings are for the disc only and do not come with the case, album art, or inserts. If you have any questions about the CDs, please do not hesitate to get in touch. Amazon.com Overwhelmed by sudden success, Nirvana promised to take a harsher, more abrasive route on their second major-label release. Enlisting Chicago-based noise maven Steve Albini (of Big Black fame), Kurt Cobain and company succeeded in producing a record that was violent, disillusioned, and deeply moving. Every song reads like a commentary on the cost of fame (\"Serve the Servants\") and the unhealthy relationship between performer and fan (\"Milk It\"). Of course, they might all simply be about Courtney Love . Gossip aside, there is no denying the sheer power of Cobain's songwriting, his singing, and the band's amazing, visceral power. Cobain even manages a John Lennon -like mantra at the end of the heart-wrenching \"All Apologies.\" \"All in all is all we are,\" he intones repeatedly, only for Cobain that's no consolation. --Percy Keegan\n",
      "Price: $15.02\n",
      "Store: Nirvana   Format: Audio CD\n",
      "Categories: ['CDs & Vinyl', 'Pop', 'Adult Alternative']\n",
      "User rating: 4.0\n",
      "User comment title: 4.25 stars,better than Nevermind, worse than Bleach\n",
      "User comment: I think I'm one of the very few diehards that believes 'In Utero' was not Nirvanas best studio album. Now dont get me wrong, it is far from a bad album, justifying the four star rating, but there are many crudentials lacking of 'In Utero' that aren't as lacking on 'Bleach'. However, some of Nirvanas best and most beautiful songs can be found here; songs like 'Heart Shaped Box', with its depressing lyrics about Kurts heroine addiction and his misfortune that befell him soon after he was hooked, \"forever in debt to your priceless advise\" lets us know that Cobain would much rather have chosen a drug-free path. 'Rape Me' was Kurts anti-Teen Spirit. It is a song about how SLTS \"raped\" Nirvana of their undergroung status and turned them into alternative heroes. \"Rape me my friend\" describes how Kurt almost felt betrayed, because, as most Nirvana fans know, he loved SLTS when he made it, but then after it made him famous its almost as if he despised it. 'Dumb' is a soft ballad and is about the feelings you have when you're high with lyrics like \"I think I'm dumb\" and \"We'll float aroung, hang out on clouds\". 'All Apologies' is another ballad, but unlike 'Dumb' it is loud at times. It is a ballad to his wife Courtney Love (who has since ruined Cobains great legacy) and infant daughter Francis Bean, and how he felt like everything that happened to them was his fault. 'Serve the Servants', the opener to the album, is a great rocker that explains the high price of fame. And 'Very Ape' is a bit different, but it has one hell of a catchy riff. As usual Dave Grohl is top knotch, but I do think Novoselic did better on previous albums, I dont know.<br /><br />  The other half of 'In Utero' however, isn't so great. 'Scentless Apprentice' sounds too much like 'Aneurysm', with its its rising riff. 'Milk It' can often times sound pointless, and although the riff is good, it just doesn't make up for what the song lacks. 'Pennyroyal Tea' lacks the insightful lyrics of previous ballads, and although isn't bad, it just doesn't meet my expectations. 'Tourrettes' is just dumb. I know Cobain was originally influenced by punk, but its nothing when compared to other punk driven songs like 'Territorial Pissings' and 'Aneurysm'. 'Francis Farmer...' and 'Radio Friendly Unit Shifter' arent bad, butthey get boring after a while. And also Cobain may sound like he's being coninuously shot in the leg with his banshee screaming. But most of the time he sounds alright.<br /><br />  So, while there may seem to be a lot of things wrong with this, it is overall a 4 star, thanks to classic songs like 'Heart-shaped Box', 'Rape me', and 'All Apologies'. I think any grunge fan should own this, oh, and pick up 'Bleach' too, its Nirvanas best.\n",
      "\n",
      "ITEM 1:\n",
      "Item: Paranoid\n",
      "Item category: Digital Music\n",
      "Description: Product description No Description Available. Genre: Popular Music Media Format: Compact Disk Rating: Release Date: 9-MAR-1989 Amazon.com Though most of Black Sabbath's classic material from this album (\"War Pigs,\" \"Iron Man,\" \"Fairies Wear Boots,\" and the title track) can also be found on the collection We Sold Our Soul for Rock & Roll , Paranoid is essential for the completist. One of the best albums from one of the bands to define heavy metal, this album is chock-full of the best stuff from Sabbath's Osbourne years. (Where else will you be able to hear \"Rat Salad?\") The music isn't exactly complex, but it doesn't need to be; its importance lies in its evocative power, with which any teenager will be able to identify. --Genevieve Williams\n",
      "Price: $7.97\n",
      "Store: Black Sabbath   Format: Audio CD\n",
      "Categories: ['CDs & Vinyl', 'Classic Rock', 'Album-Oriented Rock (AOR)']\n",
      "User rating: 5.0\n",
      "User comment title: Landmark album\n",
      "User comment: First of all if it wasn't for Black Sabbath then most likely there would be no metal today. Although Black Sabbath wasn't the earliest metal band (that would be Deep Purple) they still added many new twists to the genre. This band was dark, eerie, and definitely evil (for its time, anyway) and in Paranoid people started getting into this growing genre.<br /><br />  While Deep Purple provided the loudness and Led Zeppelin provided the attitude, Black Sabbath brought the evil into metal. Songs like 'Electric Funeral', 'Hand of Doom', and 'Planet Caravan' explain such evil. Popular songs like 'Paranoid' and 'Iron Man' brought catchiness to Black Sabbath, while still maintaining complexity and talent. Other songs, such as 'Fairies Wear Boots' start out with only instruments and then has Ozzy come in with his eerie vocals. 'War Pigs' has lyrics about Vietnam (keep in mind this was made in '70). Tony Iommi is among the best guitarists ever. The guy lost many fingertips in an accident at a Birmingham factory. While most guitarists would probably quit right there Iommi didn't only continue, but excell. Geezer Butler is a fast-as-hell bassist who laid the foundation for many metal bassists. Bill Ward is a decent drummer, and although he never came close to Jon Bonham from Zeppelin, he still provided the backbone to Sabbath. We all know about Ozzy and his eerie vocals/lyrics, I shouldn't need to write anything.<br /><br />  If you like rock n' roll, then you should already have this. If you dont, well I shouldn't have to tell you anything now.\n",
      "\n"
     ]
    }
   ],
   "source": [
    "print(liked_items_train_formatted)"
   ]
  },
  {
   "cell_type": "code",
   "execution_count": 60,
   "metadata": {},
   "outputs": [
    {
     "name": "stdout",
     "output_type": "stream",
     "text": [
      "ITEM 0:\n",
      "Item: Dookie\n",
      "Item category: Digital Music\n",
      "Description: Product Description Certified at 10 million units by the RIAA. (2/01) Amazon.com Take one part Ramones, one part Buzzcocks, and one part Husker Du, and you've got the basic foundation of Green Day, a punky, witty, melodic San Francisco Bay area trio who became overnight stars in 1994 when this album, their third overall release and major label debut, catapulted them to the top of the pop charts. Led by guitarist/vocalist Billie Joe Armstrong and their secret weapon, powerhouse drummer Tre Cool, Green Day put '70s and '80s punk in a compact '90s package with songs like \"Longview,\" \"Basket Case,\" \"Pulling Teeth,\" and the hit semi-ballad, \"When I Come Around.\" One the few modern alternative rock bands with a bona fide sense of humor. --Billy Altman\n",
      "Price: $9.0\n",
      "Store: Green Day   Format: Audio CD\n",
      "Categories: ['CDs & Vinyl', 'Indie & Alternative', 'Alternative Rock']\n",
      "User rating: 1.0\n",
      "User comment title: Now that the Green Day fad is finally starting to die...\n",
      "User comment: I told you, just read any 1 star reviews and you'll know how poser, clean & tidy, pointless, and inoffensive this pop act really is.<br /><br />Henry Rollins could kick Billy Joes as with his eyes closed<br /><br />Jon Lydon could kick Billy Joes ass with his eyes closed<br /><br />Joey Ramone could kick Billy Joes as with his eyes closed<br /><br />Any punk band member could kick Billy Joe, Tre Cools, and that fat drummers ass with their eyes closed.<br /><br />Now let all those poser black haired goth skaters click not helpful to try to be something (they never will be).<br /><br />Update 10/11:<br />Okay, I'm angry. Theres this kid about 5 reviews up that says \"magadeath fann iz a poser!\". Wow...very funny. You hit puberty. First, before you review something you should know how to spell. Second, you're not 16. You're just some 12 year old loser with no life who decided to go out of his way and insult someone who \"dussint lyk mah musik!\". Look kid, before you go out and blatantly insult someone, I suggest that you get your facts straight and think twice. Green Day sucks, and its low lifes like you that are making hacks like them rich, nice job idiot. Now go home and slit your wrists in your dark, quiet room, like you do every night. And one more thing...IM MUCH MORE POWERFUL THAN YOU ON THIS SITE\n",
      "\n",
      "ITEM 1:\n",
      "Item: The Massacre       Explicit Lyrics\n",
      "Item category: Digital Music\n",
      "Description: Product Description 50 Cent's highly anticipated follow-up to 'Get Rich Or DieTryin' features production by Dr. Dre and guest shots by Eminem, Lloyd Banks, and many more The first single 'Candy Shop' has been getting major radio airplay as well as 'Disco Inferno'. Aftermath. 2005. Amazon.com 50 Cent is now a full two dollars, according to pop culture exchange rates. His sheer influence on music charts, and thugs hearts, changed things. So why then on Massacre is the 'hood drama that one would think he'd want to leave behind even more front-and-center than on Get Rich or Die Tryin' ? It's hard to say, but 50's developed a questionable gun fetish here. With firearms plastered all over the liner notes, and throughout most of his lyrics--on \"In My Hood\" he retorts \"I don't go nowhere without my strap\"--apparently his nouveau rich status has only accelerated the number of enemies he's accumulated. On \"I'm Supposed to Die Tonight\" he even awkwardly forecasts Notorious B.I.G. -like, Tupac -ian rap game death scenarios. \"Piggy Bank,\" a virtual diss fest further cements his \"How to Rob\" persona as Nas and Fat Joe get the lyrical smack down; so does A-list actor Vivica Fox (\"Get In My Car\") for even daring to consider their rendezvous to be anything more than a fling. Despite beat contributions from Aftermath hombres (Eminem, Dr. Dre), some of the better beats come courtesy of lesser-known beatsmiths like Disco D (\"Ski Mask Way\") and the always consistent Hi-Tek, whose \"Ryder Music\" is a sick concoction of keys and haunting vocals. At 22 tracks (with no inane interludes), it's worth the loot, but it doesn't cover up 50's artistic regression since Get Rich . -- Dalton Higgins Co-Conspirators' Greatest Hits The Eminem Show , Eminem The Chronic , Dr. Dre Olivia , Olivia The Slim Shady LP , Eminem Hi-Teknology , Hi-Tek Straight out tha Trunk , Disco D\n",
      "Price: $10.98\n",
      "Store: 50 Cent   Format: Audio CD\n",
      "Categories: ['CDs & Vinyl', 'Rap & Hip-Hop', 'East Coast']\n",
      "User rating: 1.0\n",
      "User comment title: Rap should take out a restraining order against 50 cent\n",
      "User comment: So, here it is. The follow up to that damned trash heep Get rich or Die Trying' (Funny how he cant spell anything). I thought it couldn't get any worse, but how wrong I was...This has to be one of the crappiest \"albums\" (I refer to it as a frisbee) I've ever heard. I was at my dads house one day, and my sister Ashley was blasting this crap through the radio. I said \"What the hell is that noise\". She said \"It be da new fiddy CD\" (Yes, she is white). I got so sick of it in 3 seconds that I got a headache, and I just decided to go to my friend Vince's house. We were going to play frisbee because there was nothing else to do, but alas, no fribee. I knew what I had to do. I went back to my house and stole the CD from my sisters sterio, she was watching The Wrong World in the living room. When I made it back to Vinces he had found a basketball, so I just decided to frisbee the plastic in the garbage. It makes a GREAT frisbee! But I now use it as a coaster, because I ended up breaking the edge and now it wont fly straight, dammit. Oh well, if you want to spend $15 on a really thin, 6 inch plastic frisbee, then this is what to buy, but DO NOT, I repeat, DO NOT put this in your sterio/CD player/radio/anything that plays plastic such as this.<br />  Update 7/22/05<br />That guy \"MTV Rocks\", yeah what a stupid f**k. I normally dont make fun of peoples opinions because they do have a right to believe what they want. But this guy insults great bands like Van Halen, Megadeth, and Steve Vai while worshipping godawful crap such as \"fiddy\" here. Sorry \"MTV rocks\" but you, Bush, and eMpTyV are why most countries hate the USA. (this used to be a great country in the 60's - 90's, what happened?)\n",
      "\n"
     ]
    }
   ],
   "source": [
    "print(disliked_items_train_formatted)"
   ]
  },
  {
   "cell_type": "markdown",
   "metadata": {},
   "source": [
    "## Collaborative Recommendation\n",
    "\n",
    "Using [supervisor architecture](https://langchain-ai.github.io/langgraph/concepts/multi_agent/)"
   ]
  },
  {
   "cell_type": "code",
   "execution_count": 78,
   "metadata": {},
   "outputs": [],
   "source": [
    "from langgraph.graph import START, END, StateGraph\n",
    "\n",
    "from typing_extensions import List, TypedDict, Annotated\n",
    "from operator import add\n",
    "\n",
    "\n",
    "class State(TypedDict):\n",
    "\n",
    "    transcription: str\n",
    "\n",
    "    messages: Annotated[List[str], add]\n",
    "\n",
    "\n",
    "def user_agent(state: State):\n",
    "\n",
    "    return {\"messages\": [\"user!\"]}\n",
    "\n",
    "\n",
    "def item_agent(state: State):\n",
    "\n",
    "    return {\"messages\": [\"item!\"]}\n",
    "\n",
    "\n",
    "def supervisor(state: State):\n",
    "\n",
    "    return {\"messages\": [\"supervisor\"]}\n",
    "\n",
    "\n",
    "def supervisor_followup(state: State):\n",
    "    if state[\"transcription\"] == \"item\":\n",
    "        return \"item\"\n",
    "    elif state[\"transcription\"] == \"user\":\n",
    "        return \"user\"\n",
    "    return \"END\"\n",
    "\n",
    "\n",
    "graph_builder = StateGraph(State)\n",
    "\n",
    "\n",
    "# Nodes\n",
    "\n",
    "\n",
    "graph_builder.add_node(\"user_agent\", item_agent)\n",
    "\n",
    "\n",
    "graph_builder.add_node(\"item_agent\", user_agent)\n",
    "\n",
    "graph_builder.add_node(\"supervisor\", supervisor)\n",
    "\n",
    "\n",
    "# Edges\n",
    "\n",
    "\n",
    "graph_builder.set_entry_point(\"supervisor\")\n",
    "\n",
    "graph_builder.add_conditional_edges(\n",
    "    \"supervisor\",\n",
    "    supervisor_followup,\n",
    ")\n",
    "\n",
    "\n",
    "graph_builder.add_edge(\"user_agent\", \"supervisor\")\n",
    "\n",
    "graph_builder.add_edge(\"item_agent\", \"supervisor\")\n",
    "\n",
    "graph = graph_builder.compile()"
   ]
  },
  {
   "cell_type": "code",
   "execution_count": 79,
   "metadata": {},
   "outputs": [
    {
     "data": {
      "image/png": "[encoded data removed]",
      "text/plain": [
       "<IPython.core.display.Image object>"
      ]
     },
     "metadata": {},
     "output_type": "display_data"
    }
   ],
   "source": [
    "from IPython.display import Image, display\n",
    "\n",
    "try:\n",
    "    display(Image(graph.get_graph().draw_mermaid_png()))\n",
    "except Exception:\n",
    "    pass"
   ]
  },
  {
   "cell_type": "code",
   "execution_count": null,
   "metadata": {},
   "outputs": [],
   "source": [
    "from pydantic import BaseModel\n",
    "\n",
    "\n",
    "class Answer(BaseModel):\n",
    "    explanation: str\n",
    "    score: int\n",
    "\n",
    "\n",
    "PROMPT_USER = \"\"\" \n",
    "You are a user in a marketplace. Given the following context about items you have interacted with, consider your score to predict if you like or dislike the new itens.\n",
    "Your answer will be an JSON with two fields: 'explanation' and 'score'. explanation will be a concise rationale about your decision and score will be a integer from 1 to 5, where 1 is dislike and 5 is like.\n",
    "Don't assume anything about the user that can't be inferred from the context.\n",
    "Items who you liked:\n",
    "{liked_items}\n",
    "\n",
    "Items who you disliked:\n",
    "{disliked_items}\n",
    "\n",
    "New item:\n",
    "{new_items}\n",
    "\n",
    "Answer:\n",
    "\"\"\"\n",
    "\n",
    "prompt = PROMPT_USER.format(\n",
    "    liked_items=liked_items_train_formatted,\n",
    "    disliked_items=disliked_items_train_formatted,\n",
    "    new_items=disliked_items_test[\"encoded_item\"].values[0],\n",
    ")"
   ]
  },
  {
   "cell_type": "markdown",
   "metadata": {},
   "source": [
    "## Inference"
   ]
  },
  {
   "cell_type": "code",
   "execution_count": null,
   "metadata": {},
   "outputs": [
    {
     "data": {
      "text/plain": [
       "2512"
      ]
     },
     "metadata": {},
     "output_type": "display_data"
    }
   ],
   "source": [
    "import tiktoken\n",
    "\n",
    "tokenizer = tiktoken.get_encoding(\"o200k_base\")\n",
    "\n",
    "len(tokenizer.encode(prompt))"
   ]
  },
  {
   "cell_type": "code",
   "execution_count": null,
   "metadata": {},
   "outputs": [],
   "source": [
    "structured_llm = openai.with_structured_output(Answer, method=\"json_mode\")\n",
    "answer = structured_llm.invoke(prompt)"
   ]
  },
  {
   "cell_type": "code",
   "execution_count": null,
   "metadata": {},
   "outputs": [
    {
     "name": "stdout",
     "output_type": "stream",
     "text": [
      "Explanation: Based on your previous interactions, you have shown a strong preference for heavy metal and hard rock music, as evidenced by your positive ratings for Disturbed and Megadeth. Nickelback, while popular, is often viewed as more mainstream and less heavy than the bands you liked. Given your dislike for rap and pop music, it's likely that you may not appreciate Nickelback's sound as much as the heavier genres you prefer.\n",
      "Score: 2\n"
     ]
    }
   ],
   "source": [
    "print(\"Explanation:\", answer.explanation)\n",
    "print(\"Score:\", answer.score)"
   ]
  },
  {
   "cell_type": "markdown",
   "metadata": {},
   "source": [
    "## Evaluation\n",
    "\n",
    "Evaluation comparasion with sample x no sample"
   ]
  },
  {
   "cell_type": "code",
   "execution_count": null,
   "metadata": {},
   "outputs": [],
   "source": [
    "from typing import List\n",
    "\n",
    "from sklearn.metrics import accuracy_score, precision_score, recall_score, f1_score\n",
    "from sklearn.metrics import mean_absolute_error, mean_squared_error\n",
    "\n",
    "# warning level\n",
    "import warnings\n",
    "\n",
    "warnings.filterwarnings(\"ignore\")\n",
    "\n",
    "\n",
    "def compute_metrics(y_true: List[int], y_pred: List[int]):\n",
    "\n",
    "    accuracy = accuracy_score(y_true, y_pred)\n",
    "    precision = precision_score(y_true, y_pred, average=\"weighted\")\n",
    "    recall = recall_score(y_true, y_pred, average=\"weighted\")\n",
    "    f1 = f1_score(y_true, y_pred, average=\"weighted\")\n",
    "    mae = mean_absolute_error(y_true, y_pred)\n",
    "    mse = mean_squared_error(y_true, y_pred)\n",
    "\n",
    "    return {\n",
    "        \"accuracy\": accuracy,\n",
    "        \"precision\": precision,\n",
    "        \"recall\": recall,\n",
    "        \"f1\": f1,\n",
    "        \"mae\": mae,\n",
    "        \"mse\": mse,\n",
    "    }"
   ]
  }
 ],
 "metadata": {
  "kernelspec": {
   "display_name": "ml_base_310",
   "language": "python",
   "name": "python3"
  },
  "language_info": {
   "codemirror_mode": {
    "name": "ipython",
    "version": 3
   },
   "file_extension": ".py",
   "mimetype": "text/x-python",
   "name": "python",
   "nbconvert_exporter": "python",
   "pygments_lexer": "ipython3",
   "version": "3.10.15"
  }
 },
 "nbformat": 4,
 "nbformat_minor": 2
}
