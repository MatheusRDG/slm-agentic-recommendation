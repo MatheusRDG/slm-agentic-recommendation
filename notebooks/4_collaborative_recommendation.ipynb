{
 "cells": [
  {
   "cell_type": "markdown",
   "metadata": {},
   "source": [
    "# Collaborative Recommendation"
   ]
  },
  {
   "cell_type": "code",
   "execution_count": 1,
   "metadata": {},
   "outputs": [
    {
     "data": {
      "text/plain": [
       "True"
      ]
     },
     "execution_count": 1,
     "metadata": {},
     "output_type": "execute_result"
    }
   ],
   "source": [
    "from dotenv import load_dotenv\n",
    "\n",
    "load_dotenv()"
   ]
  },
  {
   "cell_type": "code",
   "execution_count": 2,
   "metadata": {},
   "outputs": [],
   "source": [
    "import pandas as pd\n",
    "import numpy as np\n",
    "import random\n",
    "\n",
    "# fix seeds\n",
    "random.seed(42)\n",
    "np.random.seed(42)"
   ]
  },
  {
   "cell_type": "markdown",
   "metadata": {},
   "source": [
    "## Load data"
   ]
  },
  {
   "cell_type": "code",
   "execution_count": 3,
   "metadata": {},
   "outputs": [],
   "source": [
    "data = pd.read_csv(\"../data/cd_and_vinyl/dense_subset.csv\")\n",
    "data_items = pd.read_json(\"../data/cd_and_vinyl/meta_CDs_and_Vinyl.jsonl\", lines=True)"
   ]
  },
  {
   "cell_type": "markdown",
   "metadata": {},
   "source": [
    "## Sample User and Items"
   ]
  },
  {
   "cell_type": "code",
   "execution_count": 4,
   "metadata": {},
   "outputs": [],
   "source": [
    "sample_user = (\n",
    "    data.query(f\"user_id == '{data.sample(1, random_state=45)['user_id'].values[0]}'\")\n",
    "    .drop_duplicates()\n",
    "    .drop(columns=[\"images\", \"helpful_vote\", \"verified_purchase\"])\n",
    ")"
   ]
  },
  {
   "cell_type": "code",
   "execution_count": 5,
   "metadata": {},
   "outputs": [],
   "source": [
    "items_user = data_items.query(\"parent_asin in @sample_user['parent_asin'].values\").drop(\n",
    "    columns=[\"features\", \"images\", \"videos\", \"bought_together\", \"subtitle\", \"author\"]\n",
    ")"
   ]
  },
  {
   "cell_type": "markdown",
   "metadata": {},
   "source": [
    "## Agents"
   ]
  },
  {
   "cell_type": "code",
   "execution_count": 6,
   "metadata": {},
   "outputs": [],
   "source": [
    "# from langchain_ollama import ChatOllama\n",
    "from langchain_openai import ChatOpenAI\n",
    "\n",
    "# ollama = ChatOllama(model=\"phi3:3.8b\")\n",
    "openai = ChatOpenAI(model=\"gpt-4o-mini\", temperature=0.1)"
   ]
  },
  {
   "cell_type": "code",
   "execution_count": 7,
   "metadata": {},
   "outputs": [],
   "source": [
    "# Train / Test\n",
    "liked_items = sample_user.query(\"rating > 3\")\n",
    "liked_items_train = liked_items.sample(2, random_state=42)\n",
    "liked_items_test = liked_items.drop(liked_items_train.index).sample(2, random_state=42)\n",
    "\n",
    "disliked_items = sample_user.query(\"rating < 3\")\n",
    "disliked_items_train = disliked_items.sample(2, random_state=42)\n",
    "disliked_items_test = disliked_items.drop(disliked_items_train.index).sample(\n",
    "    2, random_state=42\n",
    ")"
   ]
  },
  {
   "cell_type": "code",
   "execution_count": 8,
   "metadata": {},
   "outputs": [],
   "source": [
    "liked_items_train = liked_items_train.merge(items_user, on=\"parent_asin\")\n",
    "liked_items_test = liked_items_test.merge(items_user, on=\"parent_asin\")\n",
    "\n",
    "disliked_items_train = disliked_items_train.merge(items_user, on=\"parent_asin\")\n",
    "disliked_items_test = disliked_items_test.merge(items_user, on=\"parent_asin\")"
   ]
  },
  {
   "cell_type": "code",
   "execution_count": 9,
   "metadata": {},
   "outputs": [
    {
     "data": {
      "text/html": [
       "<div>\n",
       "<style scoped>\n",
       "    .dataframe tbody tr th:only-of-type {\n",
       "        vertical-align: middle;\n",
       "    }\n",
       "\n",
       "    .dataframe tbody tr th {\n",
       "        vertical-align: top;\n",
       "    }\n",
       "\n",
       "    .dataframe thead th {\n",
       "        text-align: right;\n",
       "    }\n",
       "</style>\n",
       "<table border=\"1\" class=\"dataframe\">\n",
       "  <thead>\n",
       "    <tr style=\"text-align: right;\">\n",
       "      <th></th>\n",
       "      <th>rating</th>\n",
       "      <th>title_x</th>\n",
       "      <th>text</th>\n",
       "      <th>asin</th>\n",
       "      <th>parent_asin</th>\n",
       "      <th>user_id</th>\n",
       "      <th>timestamp</th>\n",
       "      <th>main_category</th>\n",
       "      <th>title_y</th>\n",
       "      <th>average_rating</th>\n",
       "      <th>rating_number</th>\n",
       "      <th>description</th>\n",
       "      <th>price</th>\n",
       "      <th>store</th>\n",
       "      <th>categories</th>\n",
       "      <th>details</th>\n",
       "    </tr>\n",
       "  </thead>\n",
       "  <tbody>\n",
       "    <tr>\n",
       "      <th>0</th>\n",
       "      <td>5.0</td>\n",
       "      <td>To Fred Dursts fan</td>\n",
       "      <td>YOU SUCK! If you knew anything about metal you...</td>\n",
       "      <td>B0002EXH5O</td>\n",
       "      <td>B0002EXH5O</td>\n",
       "      <td>AGDX6GPEK772FFKOWYJVJRLKWTRQ</td>\n",
       "      <td>1121869919000</td>\n",
       "      <td>Digital Music</td>\n",
       "      <td>Rust In Peace</td>\n",
       "      <td>4.8</td>\n",
       "      <td>2861</td>\n",
       "      <td>[This re-issue features four previously unrele...</td>\n",
       "      <td>12.51</td>\n",
       "      <td>Megadeth   Format: Audio CD</td>\n",
       "      <td>[CDs &amp; Vinyl, Rock, Progressive, Progressive M...</td>\n",
       "      <td>{'Is Discontinued By Manufacturer': 'No', 'Pro...</td>\n",
       "    </tr>\n",
       "    <tr>\n",
       "      <th>1</th>\n",
       "      <td>5.0</td>\n",
       "      <td>Rock is forever in debt to Pearl Jam</td>\n",
       "      <td>Why? Well it should be obvious. From '89 to '9...</td>\n",
       "      <td>B0000027RL</td>\n",
       "      <td>B0000027RL</td>\n",
       "      <td>AGDX6GPEK772FFKOWYJVJRLKWTRQ</td>\n",
       "      <td>1125577991000</td>\n",
       "      <td>Digital Music</td>\n",
       "      <td>Ten</td>\n",
       "      <td>4.8</td>\n",
       "      <td>9044</td>\n",
       "      <td>[Product description, Huge debut album from 19...</td>\n",
       "      <td>8.98</td>\n",
       "      <td>Pearl Jam   Format: Audio CD</td>\n",
       "      <td>[CDs &amp; Vinyl, Pop, Adult Alternative]</td>\n",
       "      <td>{'Is Discontinued By Manufacturer': 'No', 'Lan...</td>\n",
       "    </tr>\n",
       "  </tbody>\n",
       "</table>\n",
       "</div>"
      ],
      "text/plain": [
       "   rating                               title_x  \\\n",
       "0     5.0                    To Fred Dursts fan   \n",
       "1     5.0  Rock is forever in debt to Pearl Jam   \n",
       "\n",
       "                                                text        asin parent_asin  \\\n",
       "0  YOU SUCK! If you knew anything about metal you...  B0002EXH5O  B0002EXH5O   \n",
       "1  Why? Well it should be obvious. From '89 to '9...  B0000027RL  B0000027RL   \n",
       "\n",
       "                        user_id      timestamp  main_category        title_y  \\\n",
       "0  AGDX6GPEK772FFKOWYJVJRLKWTRQ  1121869919000  Digital Music  Rust In Peace   \n",
       "1  AGDX6GPEK772FFKOWYJVJRLKWTRQ  1125577991000  Digital Music            Ten   \n",
       "\n",
       "   average_rating  rating_number  \\\n",
       "0             4.8           2861   \n",
       "1             4.8           9044   \n",
       "\n",
       "                                         description  price  \\\n",
       "0  [This re-issue features four previously unrele...  12.51   \n",
       "1  [Product description, Huge debut album from 19...   8.98   \n",
       "\n",
       "                          store  \\\n",
       "0   Megadeth   Format: Audio CD   \n",
       "1  Pearl Jam   Format: Audio CD   \n",
       "\n",
       "                                          categories  \\\n",
       "0  [CDs & Vinyl, Rock, Progressive, Progressive M...   \n",
       "1              [CDs & Vinyl, Pop, Adult Alternative]   \n",
       "\n",
       "                                             details  \n",
       "0  {'Is Discontinued By Manufacturer': 'No', 'Pro...  \n",
       "1  {'Is Discontinued By Manufacturer': 'No', 'Lan...  "
      ]
     },
     "execution_count": 9,
     "metadata": {},
     "output_type": "execute_result"
    }
   ],
   "source": [
    "liked_items_test"
   ]
  },
  {
   "cell_type": "code",
   "execution_count": 10,
   "metadata": {},
   "outputs": [
    {
     "data": {
      "text/html": [
       "<div>\n",
       "<style scoped>\n",
       "    .dataframe tbody tr th:only-of-type {\n",
       "        vertical-align: middle;\n",
       "    }\n",
       "\n",
       "    .dataframe tbody tr th {\n",
       "        vertical-align: top;\n",
       "    }\n",
       "\n",
       "    .dataframe thead th {\n",
       "        text-align: right;\n",
       "    }\n",
       "</style>\n",
       "<table border=\"1\" class=\"dataframe\">\n",
       "  <thead>\n",
       "    <tr style=\"text-align: right;\">\n",
       "      <th></th>\n",
       "      <th>rating</th>\n",
       "      <th>title_x</th>\n",
       "      <th>text</th>\n",
       "      <th>asin</th>\n",
       "      <th>parent_asin</th>\n",
       "      <th>user_id</th>\n",
       "      <th>timestamp</th>\n",
       "      <th>main_category</th>\n",
       "      <th>title_y</th>\n",
       "      <th>average_rating</th>\n",
       "      <th>rating_number</th>\n",
       "      <th>description</th>\n",
       "      <th>price</th>\n",
       "      <th>store</th>\n",
       "      <th>categories</th>\n",
       "      <th>details</th>\n",
       "    </tr>\n",
       "  </thead>\n",
       "  <tbody>\n",
       "    <tr>\n",
       "      <th>0</th>\n",
       "      <td>1.0</td>\n",
       "      <td>Now that the Green Day fad is finally starting...</td>\n",
       "      <td>I told you, just read any 1 star reviews and y...</td>\n",
       "      <td>B000002MP2</td>\n",
       "      <td>B000002MP2</td>\n",
       "      <td>AGDX6GPEK772FFKOWYJVJRLKWTRQ</td>\n",
       "      <td>1128113818000</td>\n",
       "      <td>Digital Music</td>\n",
       "      <td>Dookie</td>\n",
       "      <td>4.8</td>\n",
       "      <td>3986</td>\n",
       "      <td>[Product Description, Certified at 10 million ...</td>\n",
       "      <td>9.0</td>\n",
       "      <td>Green Day   Format: Audio CD</td>\n",
       "      <td>[CDs &amp; Vinyl, Indie &amp; Alternative, Alternative...</td>\n",
       "      <td>{'Is Discontinued By Manufacturer': 'No', 'Lan...</td>\n",
       "    </tr>\n",
       "    <tr>\n",
       "      <th>1</th>\n",
       "      <td>1.0</td>\n",
       "      <td>Rap should take out a restraining order agains...</td>\n",
       "      <td>So, here it is. The follow up to that damned t...</td>\n",
       "      <td>B0007P3582</td>\n",
       "      <td>B0007P3582</td>\n",
       "      <td>AGDX6GPEK772FFKOWYJVJRLKWTRQ</td>\n",
       "      <td>1121691341000</td>\n",
       "      <td>Digital Music</td>\n",
       "      <td>The Massacre       Explicit Lyrics</td>\n",
       "      <td>4.5</td>\n",
       "      <td>1493</td>\n",
       "      <td>[Product Description, 50 Cent's highly anticip...</td>\n",
       "      <td>10.98</td>\n",
       "      <td>50 Cent   Format: Audio CD</td>\n",
       "      <td>[CDs &amp; Vinyl, Rap &amp; Hip-Hop, East Coast]</td>\n",
       "      <td>{'Is Discontinued By Manufacturer': 'No', 'Pac...</td>\n",
       "    </tr>\n",
       "  </tbody>\n",
       "</table>\n",
       "</div>"
      ],
      "text/plain": [
       "   rating                                            title_x  \\\n",
       "0     1.0  Now that the Green Day fad is finally starting...   \n",
       "1     1.0  Rap should take out a restraining order agains...   \n",
       "\n",
       "                                                text        asin parent_asin  \\\n",
       "0  I told you, just read any 1 star reviews and y...  B000002MP2  B000002MP2   \n",
       "1  So, here it is. The follow up to that damned t...  B0007P3582  B0007P3582   \n",
       "\n",
       "                        user_id      timestamp  main_category  \\\n",
       "0  AGDX6GPEK772FFKOWYJVJRLKWTRQ  1128113818000  Digital Music   \n",
       "1  AGDX6GPEK772FFKOWYJVJRLKWTRQ  1121691341000  Digital Music   \n",
       "\n",
       "                              title_y  average_rating  rating_number  \\\n",
       "0                              Dookie             4.8           3986   \n",
       "1  The Massacre       Explicit Lyrics             4.5           1493   \n",
       "\n",
       "                                         description  price  \\\n",
       "0  [Product Description, Certified at 10 million ...    9.0   \n",
       "1  [Product Description, 50 Cent's highly anticip...  10.98   \n",
       "\n",
       "                          store  \\\n",
       "0  Green Day   Format: Audio CD   \n",
       "1    50 Cent   Format: Audio CD   \n",
       "\n",
       "                                          categories  \\\n",
       "0  [CDs & Vinyl, Indie & Alternative, Alternative...   \n",
       "1           [CDs & Vinyl, Rap & Hip-Hop, East Coast]   \n",
       "\n",
       "                                             details  \n",
       "0  {'Is Discontinued By Manufacturer': 'No', 'Lan...  \n",
       "1  {'Is Discontinued By Manufacturer': 'No', 'Pac...  "
      ]
     },
     "execution_count": 10,
     "metadata": {},
     "output_type": "execute_result"
    }
   ],
   "source": [
    "disliked_items_train"
   ]
  },
  {
   "cell_type": "code",
   "execution_count": 11,
   "metadata": {},
   "outputs": [],
   "source": [
    "# from langchain_core.prompts import PromptTemplate\n",
    "\n",
    "PROMPT_USER_ITEM = \"\"\"\n",
    "Item: {title_item}\n",
    "Item category: {item_category}\n",
    "Description: {description}\n",
    "Price: ${price}\n",
    "Store: {store}\n",
    "Categories: {categories}\n",
    "User rating: {rating}\n",
    "User comment title: {title_comment}\n",
    "User comment: {text_comment}\n",
    "\"\"\"\n",
    "\n",
    "PROMPT_ITEM = \"\"\"\n",
    "Item: {title_item}\n",
    "Item category: {item_category}\n",
    "Description: {description}\n",
    "Price: ${price}\n",
    "Store: {store}\n",
    "Categories: {categories}\n",
    "\"\"\"\n",
    "\n",
    "\n",
    "def encode_item(item):\n",
    "    title_item = item[\"title_y\"]\n",
    "    item_category = item[\"main_category\"]\n",
    "    description = \" \".join(item[\"description\"])\n",
    "    price = item[\"price\"]\n",
    "    store = item[\"store\"]\n",
    "    categories = item[\"categories\"]\n",
    "\n",
    "    return {\n",
    "        \"title_item\": title_item,\n",
    "        \"item_category\": item_category,\n",
    "        \"description\": description,\n",
    "        \"price\": price,\n",
    "        \"store\": store,\n",
    "        \"categories\": categories,\n",
    "    }\n",
    "\n",
    "\n",
    "def encode_item_format(item):\n",
    "    item_info = encode_item(item)\n",
    "\n",
    "    return PROMPT_ITEM.format(\n",
    "        title_item=item_info[\"title_item\"],\n",
    "        item_category=item_info[\"item_category\"],\n",
    "        description=item_info[\"description\"],\n",
    "        price=item_info[\"price\"],\n",
    "        store=item_info[\"store\"],\n",
    "        categories=item_info[\"categories\"],\n",
    "    )\n",
    "\n",
    "\n",
    "def encode_user(user):\n",
    "    title_comment = user[\"title_x\"]\n",
    "    text_comment = user[\"text\"]\n",
    "    rating = user[\"rating\"]\n",
    "\n",
    "    return {\n",
    "        \"title_comment\": title_comment,\n",
    "        \"text_comment\": text_comment,\n",
    "        \"rating\": rating,\n",
    "    }\n",
    "\n",
    "\n",
    "def encode_item_user_format(item_user):\n",
    "    item_info = encode_item(item_user)\n",
    "    user_info = encode_user(item_user)\n",
    "\n",
    "    return PROMPT_USER_ITEM.format(\n",
    "        title_item=item_info[\"title_item\"],\n",
    "        item_category=item_info[\"item_category\"],\n",
    "        description=item_info[\"description\"],\n",
    "        price=item_info[\"price\"],\n",
    "        store=item_info[\"store\"],\n",
    "        categories=item_info[\"categories\"],\n",
    "        rating=user_info[\"rating\"],\n",
    "        title_comment=user_info[\"title_comment\"],\n",
    "        text_comment=user_info[\"text_comment\"],\n",
    "    )"
   ]
  },
  {
   "cell_type": "code",
   "execution_count": 12,
   "metadata": {},
   "outputs": [],
   "source": [
    "liked_items_train[\"encoded_item_user\"] = liked_items_train.apply(\n",
    "    lambda row: encode_item_user_format(row), axis=1\n",
    ")\n",
    "disliked_items_train[\"encoded_item_user\"] = disliked_items_train.apply(\n",
    "    lambda row: encode_item_user_format(row), axis=1\n",
    ")\n",
    "\n",
    "liked_items_test[\"encoded_item\"] = liked_items_test.apply(\n",
    "    lambda row: encode_item_format(row), axis=1\n",
    ")\n",
    "disliked_items_test[\"encoded_item\"] = disliked_items_test.apply(\n",
    "    lambda row: encode_item_format(row), axis=1\n",
    ")"
   ]
  },
  {
   "cell_type": "code",
   "execution_count": 13,
   "metadata": {},
   "outputs": [],
   "source": [
    "liked_items_train_formatted = \"\\n\".join(\n",
    "    [\n",
    "        f\"ITEM {i}:{item}\"\n",
    "        for i, item in list(enumerate(liked_items_train[\"encoded_item_user\"].values))\n",
    "    ]\n",
    ")\n",
    "\n",
    "disliked_items_train_formatted = \"\\n\".join(\n",
    "    [\n",
    "        f\"ITEM {i}:{item}\"\n",
    "        for i, item in list(enumerate(disliked_items_train[\"encoded_item_user\"].values))\n",
    "    ]\n",
    ")"
   ]
  },
  {
   "cell_type": "code",
   "execution_count": 14,
   "metadata": {},
   "outputs": [
    {
     "name": "stdout",
     "output_type": "stream",
     "text": [
      "ITEM 0:\n",
      "Item: In Utero       Explicit Lyrics\n",
      "Item category: Digital Music\n",
      "Description: Product description NIRVANA - IN UTERO We receive various CDs from the radio cores that we remanufacture. As a result, we are are now selling them! Our CDs are professionally resurfaced and are guaranteed to work or your money back! These listings are for the disc only and do not come with the case, album art, or inserts. If you have any questions about the CDs, please do not hesitate to get in touch. Amazon.com Overwhelmed by sudden success, Nirvana promised to take a harsher, more abrasive route on their second major-label release. Enlisting Chicago-based noise maven Steve Albini (of Big Black fame), Kurt Cobain and company succeeded in producing a record that was violent, disillusioned, and deeply moving. Every song reads like a commentary on the cost of fame (\"Serve the Servants\") and the unhealthy relationship between performer and fan (\"Milk It\"). Of course, they might all simply be about Courtney Love . Gossip aside, there is no denying the sheer power of Cobain's songwriting, his singing, and the band's amazing, visceral power. Cobain even manages a John Lennon -like mantra at the end of the heart-wrenching \"All Apologies.\" \"All in all is all we are,\" he intones repeatedly, only for Cobain that's no consolation. --Percy Keegan\n",
      "Price: $15.02\n",
      "Store: Nirvana   Format: Audio CD\n",
      "Categories: ['CDs & Vinyl', 'Pop', 'Adult Alternative']\n",
      "User rating: 4.0\n",
      "User comment title: 4.25 stars,better than Nevermind, worse than Bleach\n",
      "User comment: I think I'm one of the very few diehards that believes 'In Utero' was not Nirvanas best studio album. Now dont get me wrong, it is far from a bad album, justifying the four star rating, but there are many crudentials lacking of 'In Utero' that aren't as lacking on 'Bleach'. However, some of Nirvanas best and most beautiful songs can be found here; songs like 'Heart Shaped Box', with its depressing lyrics about Kurts heroine addiction and his misfortune that befell him soon after he was hooked, \"forever in debt to your priceless advise\" lets us know that Cobain would much rather have chosen a drug-free path. 'Rape Me' was Kurts anti-Teen Spirit. It is a song about how SLTS \"raped\" Nirvana of their undergroung status and turned them into alternative heroes. \"Rape me my friend\" describes how Kurt almost felt betrayed, because, as most Nirvana fans know, he loved SLTS when he made it, but then after it made him famous its almost as if he despised it. 'Dumb' is a soft ballad and is about the feelings you have when you're high with lyrics like \"I think I'm dumb\" and \"We'll float aroung, hang out on clouds\". 'All Apologies' is another ballad, but unlike 'Dumb' it is loud at times. It is a ballad to his wife Courtney Love (who has since ruined Cobains great legacy) and infant daughter Francis Bean, and how he felt like everything that happened to them was his fault. 'Serve the Servants', the opener to the album, is a great rocker that explains the high price of fame. And 'Very Ape' is a bit different, but it has one hell of a catchy riff. As usual Dave Grohl is top knotch, but I do think Novoselic did better on previous albums, I dont know.<br /><br />  The other half of 'In Utero' however, isn't so great. 'Scentless Apprentice' sounds too much like 'Aneurysm', with its its rising riff. 'Milk It' can often times sound pointless, and although the riff is good, it just doesn't make up for what the song lacks. 'Pennyroyal Tea' lacks the insightful lyrics of previous ballads, and although isn't bad, it just doesn't meet my expectations. 'Tourrettes' is just dumb. I know Cobain was originally influenced by punk, but its nothing when compared to other punk driven songs like 'Territorial Pissings' and 'Aneurysm'. 'Francis Farmer...' and 'Radio Friendly Unit Shifter' arent bad, butthey get boring after a while. And also Cobain may sound like he's being coninuously shot in the leg with his banshee screaming. But most of the time he sounds alright.<br /><br />  So, while there may seem to be a lot of things wrong with this, it is overall a 4 star, thanks to classic songs like 'Heart-shaped Box', 'Rape me', and 'All Apologies'. I think any grunge fan should own this, oh, and pick up 'Bleach' too, its Nirvanas best.\n",
      "\n",
      "ITEM 1:\n",
      "Item: Paranoid\n",
      "Item category: Digital Music\n",
      "Description: Product description No Description Available. Genre: Popular Music Media Format: Compact Disk Rating: Release Date: 9-MAR-1989 Amazon.com Though most of Black Sabbath's classic material from this album (\"War Pigs,\" \"Iron Man,\" \"Fairies Wear Boots,\" and the title track) can also be found on the collection We Sold Our Soul for Rock & Roll , Paranoid is essential for the completist. One of the best albums from one of the bands to define heavy metal, this album is chock-full of the best stuff from Sabbath's Osbourne years. (Where else will you be able to hear \"Rat Salad?\") The music isn't exactly complex, but it doesn't need to be; its importance lies in its evocative power, with which any teenager will be able to identify. --Genevieve Williams\n",
      "Price: $7.97\n",
      "Store: Black Sabbath   Format: Audio CD\n",
      "Categories: ['CDs & Vinyl', 'Classic Rock', 'Album-Oriented Rock (AOR)']\n",
      "User rating: 5.0\n",
      "User comment title: Landmark album\n",
      "User comment: First of all if it wasn't for Black Sabbath then most likely there would be no metal today. Although Black Sabbath wasn't the earliest metal band (that would be Deep Purple) they still added many new twists to the genre. This band was dark, eerie, and definitely evil (for its time, anyway) and in Paranoid people started getting into this growing genre.<br /><br />  While Deep Purple provided the loudness and Led Zeppelin provided the attitude, Black Sabbath brought the evil into metal. Songs like 'Electric Funeral', 'Hand of Doom', and 'Planet Caravan' explain such evil. Popular songs like 'Paranoid' and 'Iron Man' brought catchiness to Black Sabbath, while still maintaining complexity and talent. Other songs, such as 'Fairies Wear Boots' start out with only instruments and then has Ozzy come in with his eerie vocals. 'War Pigs' has lyrics about Vietnam (keep in mind this was made in '70). Tony Iommi is among the best guitarists ever. The guy lost many fingertips in an accident at a Birmingham factory. While most guitarists would probably quit right there Iommi didn't only continue, but excell. Geezer Butler is a fast-as-hell bassist who laid the foundation for many metal bassists. Bill Ward is a decent drummer, and although he never came close to Jon Bonham from Zeppelin, he still provided the backbone to Sabbath. We all know about Ozzy and his eerie vocals/lyrics, I shouldn't need to write anything.<br /><br />  If you like rock n' roll, then you should already have this. If you dont, well I shouldn't have to tell you anything now.\n",
      "\n"
     ]
    }
   ],
   "source": [
    "print(liked_items_train_formatted)"
   ]
  },
  {
   "cell_type": "code",
   "execution_count": 15,
   "metadata": {},
   "outputs": [
    {
     "name": "stdout",
     "output_type": "stream",
     "text": [
      "ITEM 0:\n",
      "Item: Dookie\n",
      "Item category: Digital Music\n",
      "Description: Product Description Certified at 10 million units by the RIAA. (2/01) Amazon.com Take one part Ramones, one part Buzzcocks, and one part Husker Du, and you've got the basic foundation of Green Day, a punky, witty, melodic San Francisco Bay area trio who became overnight stars in 1994 when this album, their third overall release and major label debut, catapulted them to the top of the pop charts. Led by guitarist/vocalist Billie Joe Armstrong and their secret weapon, powerhouse drummer Tre Cool, Green Day put '70s and '80s punk in a compact '90s package with songs like \"Longview,\" \"Basket Case,\" \"Pulling Teeth,\" and the hit semi-ballad, \"When I Come Around.\" One the few modern alternative rock bands with a bona fide sense of humor. --Billy Altman\n",
      "Price: $9.0\n",
      "Store: Green Day   Format: Audio CD\n",
      "Categories: ['CDs & Vinyl', 'Indie & Alternative', 'Alternative Rock']\n",
      "User rating: 1.0\n",
      "User comment title: Now that the Green Day fad is finally starting to die...\n",
      "User comment: I told you, just read any 1 star reviews and you'll know how poser, clean & tidy, pointless, and inoffensive this pop act really is.<br /><br />Henry Rollins could kick Billy Joes as with his eyes closed<br /><br />Jon Lydon could kick Billy Joes ass with his eyes closed<br /><br />Joey Ramone could kick Billy Joes as with his eyes closed<br /><br />Any punk band member could kick Billy Joe, Tre Cools, and that fat drummers ass with their eyes closed.<br /><br />Now let all those poser black haired goth skaters click not helpful to try to be something (they never will be).<br /><br />Update 10/11:<br />Okay, I'm angry. Theres this kid about 5 reviews up that says \"magadeath fann iz a poser!\". Wow...very funny. You hit puberty. First, before you review something you should know how to spell. Second, you're not 16. You're just some 12 year old loser with no life who decided to go out of his way and insult someone who \"dussint lyk mah musik!\". Look kid, before you go out and blatantly insult someone, I suggest that you get your facts straight and think twice. Green Day sucks, and its low lifes like you that are making hacks like them rich, nice job idiot. Now go home and slit your wrists in your dark, quiet room, like you do every night. And one more thing...IM MUCH MORE POWERFUL THAN YOU ON THIS SITE\n",
      "\n",
      "ITEM 1:\n",
      "Item: The Massacre       Explicit Lyrics\n",
      "Item category: Digital Music\n",
      "Description: Product Description 50 Cent's highly anticipated follow-up to 'Get Rich Or DieTryin' features production by Dr. Dre and guest shots by Eminem, Lloyd Banks, and many more The first single 'Candy Shop' has been getting major radio airplay as well as 'Disco Inferno'. Aftermath. 2005. Amazon.com 50 Cent is now a full two dollars, according to pop culture exchange rates. His sheer influence on music charts, and thugs hearts, changed things. So why then on Massacre is the 'hood drama that one would think he'd want to leave behind even more front-and-center than on Get Rich or Die Tryin' ? It's hard to say, but 50's developed a questionable gun fetish here. With firearms plastered all over the liner notes, and throughout most of his lyrics--on \"In My Hood\" he retorts \"I don't go nowhere without my strap\"--apparently his nouveau rich status has only accelerated the number of enemies he's accumulated. On \"I'm Supposed to Die Tonight\" he even awkwardly forecasts Notorious B.I.G. -like, Tupac -ian rap game death scenarios. \"Piggy Bank,\" a virtual diss fest further cements his \"How to Rob\" persona as Nas and Fat Joe get the lyrical smack down; so does A-list actor Vivica Fox (\"Get In My Car\") for even daring to consider their rendezvous to be anything more than a fling. Despite beat contributions from Aftermath hombres (Eminem, Dr. Dre), some of the better beats come courtesy of lesser-known beatsmiths like Disco D (\"Ski Mask Way\") and the always consistent Hi-Tek, whose \"Ryder Music\" is a sick concoction of keys and haunting vocals. At 22 tracks (with no inane interludes), it's worth the loot, but it doesn't cover up 50's artistic regression since Get Rich . -- Dalton Higgins Co-Conspirators' Greatest Hits The Eminem Show , Eminem The Chronic , Dr. Dre Olivia , Olivia The Slim Shady LP , Eminem Hi-Teknology , Hi-Tek Straight out tha Trunk , Disco D\n",
      "Price: $10.98\n",
      "Store: 50 Cent   Format: Audio CD\n",
      "Categories: ['CDs & Vinyl', 'Rap & Hip-Hop', 'East Coast']\n",
      "User rating: 1.0\n",
      "User comment title: Rap should take out a restraining order against 50 cent\n",
      "User comment: So, here it is. The follow up to that damned trash heep Get rich or Die Trying' (Funny how he cant spell anything). I thought it couldn't get any worse, but how wrong I was...This has to be one of the crappiest \"albums\" (I refer to it as a frisbee) I've ever heard. I was at my dads house one day, and my sister Ashley was blasting this crap through the radio. I said \"What the hell is that noise\". She said \"It be da new fiddy CD\" (Yes, she is white). I got so sick of it in 3 seconds that I got a headache, and I just decided to go to my friend Vince's house. We were going to play frisbee because there was nothing else to do, but alas, no fribee. I knew what I had to do. I went back to my house and stole the CD from my sisters sterio, she was watching The Wrong World in the living room. When I made it back to Vinces he had found a basketball, so I just decided to frisbee the plastic in the garbage. It makes a GREAT frisbee! But I now use it as a coaster, because I ended up breaking the edge and now it wont fly straight, dammit. Oh well, if you want to spend $15 on a really thin, 6 inch plastic frisbee, then this is what to buy, but DO NOT, I repeat, DO NOT put this in your sterio/CD player/radio/anything that plays plastic such as this.<br />  Update 7/22/05<br />That guy \"MTV Rocks\", yeah what a stupid f**k. I normally dont make fun of peoples opinions because they do have a right to believe what they want. But this guy insults great bands like Van Halen, Megadeth, and Steve Vai while worshipping godawful crap such as \"fiddy\" here. Sorry \"MTV rocks\" but you, Bush, and eMpTyV are why most countries hate the USA. (this used to be a great country in the 60's - 90's, what happened?)\n",
      "\n"
     ]
    }
   ],
   "source": [
    "print(disliked_items_train_formatted)"
   ]
  },
  {
   "cell_type": "markdown",
   "metadata": {},
   "source": [
    "## Collaborative Recommendation\n",
    "\n",
    "Using [supervisor architecture](https://langchain-ai.github.io/langgraph/concepts/multi_agent/)"
   ]
  },
  {
   "cell_type": "code",
   "execution_count": 16,
   "metadata": {},
   "outputs": [],
   "source": [
    "from langgraph.graph import START, END, StateGraph\n",
    "\n",
    "\n",
    "from langchain_core.messages import AnyMessage\n",
    "from langgraph.graph.message import add_messages\n",
    "\n",
    "from langgraph.graph import MessagesState\n",
    "\n",
    "\n",
    "from typing_extensions import TypedDict, Annotated"
   ]
  },
  {
   "cell_type": "code",
   "execution_count": 17,
   "metadata": {},
   "outputs": [
    {
     "data": {
      "text/html": [
       "<div>\n",
       "<style scoped>\n",
       "    .dataframe tbody tr th:only-of-type {\n",
       "        vertical-align: middle;\n",
       "    }\n",
       "\n",
       "    .dataframe tbody tr th {\n",
       "        vertical-align: top;\n",
       "    }\n",
       "\n",
       "    .dataframe thead th {\n",
       "        text-align: right;\n",
       "    }\n",
       "</style>\n",
       "<table border=\"1\" class=\"dataframe\">\n",
       "  <thead>\n",
       "    <tr style=\"text-align: right;\">\n",
       "      <th></th>\n",
       "      <th>rating</th>\n",
       "      <th>title_x</th>\n",
       "      <th>text</th>\n",
       "      <th>asin</th>\n",
       "      <th>parent_asin</th>\n",
       "      <th>user_id</th>\n",
       "      <th>timestamp</th>\n",
       "      <th>main_category</th>\n",
       "      <th>title_y</th>\n",
       "      <th>average_rating</th>\n",
       "      <th>rating_number</th>\n",
       "      <th>description</th>\n",
       "      <th>price</th>\n",
       "      <th>store</th>\n",
       "      <th>categories</th>\n",
       "      <th>details</th>\n",
       "      <th>encoded_item_user</th>\n",
       "    </tr>\n",
       "  </thead>\n",
       "  <tbody>\n",
       "    <tr>\n",
       "      <th>0</th>\n",
       "      <td>4.0</td>\n",
       "      <td>4.25 stars,better than Nevermind, worse than B...</td>\n",
       "      <td>I think I'm one of the very few diehards that ...</td>\n",
       "      <td>B000003TAR</td>\n",
       "      <td>B000003TAR</td>\n",
       "      <td>AGDX6GPEK772FFKOWYJVJRLKWTRQ</td>\n",
       "      <td>1126035673000</td>\n",
       "      <td>Digital Music</td>\n",
       "      <td>In Utero       Explicit Lyrics</td>\n",
       "      <td>4.8</td>\n",
       "      <td>2136</td>\n",
       "      <td>[Product description, NIRVANA - IN UTERO We re...</td>\n",
       "      <td>15.02</td>\n",
       "      <td>Nirvana   Format: Audio CD</td>\n",
       "      <td>[CDs &amp; Vinyl, Pop, Adult Alternative]</td>\n",
       "      <td>{'Is Discontinued By Manufacturer': 'No', 'Lan...</td>\n",
       "      <td>\\nItem: In Utero       Explicit Lyrics\\nItem c...</td>\n",
       "    </tr>\n",
       "    <tr>\n",
       "      <th>1</th>\n",
       "      <td>5.0</td>\n",
       "      <td>Landmark album</td>\n",
       "      <td>First of all if it wasn't for Black Sabbath th...</td>\n",
       "      <td>B000002KHH</td>\n",
       "      <td>B000002KHH</td>\n",
       "      <td>AGDX6GPEK772FFKOWYJVJRLKWTRQ</td>\n",
       "      <td>1121951912000</td>\n",
       "      <td>Digital Music</td>\n",
       "      <td>Paranoid</td>\n",
       "      <td>4.8</td>\n",
       "      <td>5940</td>\n",
       "      <td>[Product description, No Description Available...</td>\n",
       "      <td>7.97</td>\n",
       "      <td>Black Sabbath   Format: Audio CD</td>\n",
       "      <td>[CDs &amp; Vinyl, Classic Rock, Album-Oriented Roc...</td>\n",
       "      <td>{'Is Discontinued By Manufacturer': 'No', 'Lan...</td>\n",
       "      <td>\\nItem: Paranoid\\nItem category: Digital Music...</td>\n",
       "    </tr>\n",
       "  </tbody>\n",
       "</table>\n",
       "</div>"
      ],
      "text/plain": [
       "   rating                                            title_x  \\\n",
       "0     4.0  4.25 stars,better than Nevermind, worse than B...   \n",
       "1     5.0                                     Landmark album   \n",
       "\n",
       "                                                text        asin parent_asin  \\\n",
       "0  I think I'm one of the very few diehards that ...  B000003TAR  B000003TAR   \n",
       "1  First of all if it wasn't for Black Sabbath th...  B000002KHH  B000002KHH   \n",
       "\n",
       "                        user_id      timestamp  main_category  \\\n",
       "0  AGDX6GPEK772FFKOWYJVJRLKWTRQ  1126035673000  Digital Music   \n",
       "1  AGDX6GPEK772FFKOWYJVJRLKWTRQ  1121951912000  Digital Music   \n",
       "\n",
       "                          title_y  average_rating  rating_number  \\\n",
       "0  In Utero       Explicit Lyrics             4.8           2136   \n",
       "1                        Paranoid             4.8           5940   \n",
       "\n",
       "                                         description  price  \\\n",
       "0  [Product description, NIRVANA - IN UTERO We re...  15.02   \n",
       "1  [Product description, No Description Available...   7.97   \n",
       "\n",
       "                              store  \\\n",
       "0        Nirvana   Format: Audio CD   \n",
       "1  Black Sabbath   Format: Audio CD   \n",
       "\n",
       "                                          categories  \\\n",
       "0              [CDs & Vinyl, Pop, Adult Alternative]   \n",
       "1  [CDs & Vinyl, Classic Rock, Album-Oriented Roc...   \n",
       "\n",
       "                                             details  \\\n",
       "0  {'Is Discontinued By Manufacturer': 'No', 'Lan...   \n",
       "1  {'Is Discontinued By Manufacturer': 'No', 'Lan...   \n",
       "\n",
       "                                   encoded_item_user  \n",
       "0  \\nItem: In Utero       Explicit Lyrics\\nItem c...  \n",
       "1  \\nItem: Paranoid\\nItem category: Digital Music...  "
      ]
     },
     "execution_count": 17,
     "metadata": {},
     "output_type": "execute_result"
    }
   ],
   "source": [
    "liked_items_train"
   ]
  },
  {
   "cell_type": "code",
   "execution_count": 75,
   "metadata": {},
   "outputs": [],
   "source": [
    "from pydantic import BaseModel\n",
    "from langchain_core.messages import HumanMessage, SystemMessage, AIMessage\n",
    "\n",
    "# PROMPT SYSTEM USER\n",
    "PROMPT_SYSTEM_USER = \"\"\"\n",
    "You represent a user who has interacted with and rated various items. Based on the provided memories, reflect on key aspects such as item scope, categories, pricing, and other relevant details. Use both long-term and short-term memories to guide your response, ensuring accuracy and relevance.\n",
    "\n",
    "**Instructions:**\n",
    "1. **Memory-Driven Reflection:** Use only the information explicitly available in the memories. Do not create or infer details that are not supported by the provided memories.\n",
    "2. **Long-Term vs. Short-Term Memory:** \n",
    "   - Long-term memory contains general, lasting insights about your preferences and behavior patterns.\n",
    "   - Short-term memory highlights recent interactions and temporary preferences.\n",
    "3. **Relevance and Precision:** Focus on providing concise, targeted answers that reflect the user's experiences and preferences as documented in the memories.\n",
    "4. **Strict Memory Adherence:** Do not introduce any assumptions or unsupported details.\n",
    "\n",
    "### Input:\n",
    "Long-term memory:\n",
    "{long_term_memory}\n",
    "\n",
    "Short-term memory:\n",
    "{short_term_memory}\n",
    "\"\"\"\n",
    "\n",
    "# REPRESENTATION OF THE USER\n",
    "PROMPT_GENERATE_REPRESENTATION_USER = \"\"\"\n",
    "Based on your memories, generate a self-representation that highlights key preferences and behaviors to help predict future choices. Use only information directly supported by your memories to ensure accuracy.\n",
    "\n",
    "**Instructions:**\n",
    "1. **Memory-Based Representation:** Focus solely on the information stored in your memories to describe yourself.\n",
    "2. **Key Preferences:** Highlight patterns, preferences, and behaviors that are likely to influence future decisions.\n",
    "3. **Conciseness:** Limit the representation to a single paragraph that effectively summarizes relevant insights.\n",
    "4. **Accuracy:** Avoid assumptions or details not present in the provided memories.\n",
    "\n",
    "### Output:\n",
    "A single-paragraph representation based on your memories, capturing essential traits and patterns relevant to future predictions.\n",
    "\"\"\"\n",
    "\n",
    "\n",
    "# TRAINING\n",
    "class TrainTaskOutput(BaseModel):\n",
    "    item_selected: int\n",
    "    explanation: str\n",
    "\n",
    "\n",
    "PROMPT_TRAIN_TASK = \"\"\"\n",
    "Based on your memories, select one of the following items that you believe aligns best with your preferences, using the information provided by each item.\n",
    "\n",
    "**Instructions:**\n",
    "1. **Selection Criteria:** Use your stored memories to evaluate both items, identifying which one you prefer.\n",
    "2. **Explanation:** Provide a brief explanation of your choice in **no more than 3 phrases**, focusing on key aspects that influenced your decision.\n",
    "3. **Output Format:** Return a JSON containing:\n",
    "   - **\"item_selected\"** (1 or 2): The item you chose.\n",
    "   - **\"explanation\"**: A concise reason for your selection based on your preferences.\n",
    "\n",
    "### Items:\n",
    "\n",
    "Item 1:\n",
    "{item_1}\n",
    "\n",
    "Item 2:\n",
    "{item_2}\n",
    "\n",
    "### Output:\n",
    "Return a JSON object containing the keys \"item_selected\" and \"explanation.\"\n",
    "\"\"\"\n",
    "\n",
    "# MEMORIES UPDATE\n",
    "\n",
    "\n",
    "class MemoryUpdateBackward(BaseModel):\n",
    "    long_term_memory: list[str]\n",
    "    short_term_memory: list[str]\n",
    "\n",
    "\n",
    "PROMPT_USER_MEMORIES_UPDATE = \"\"\"\n",
    "That's an train loop.\n",
    "Based on your long term-memory, select the most relevant general and long-term information (like the type of the item, the category that included) that you think is useful for future interactions to make your explanation aligned with y_true.\n",
    "Based on your short term-memory, select the most relevant recent interactions (like information about the specific item, the explanation of the decision, etc) that you think is useful for future interactions to make your explanation aligned with y_true.\n",
    "Your answer need to be a json with the keys \"long_term_memory\" and \"short_term_memory\". Each of them can contain at maximum 3 short phrases.\n",
    "Manage your memories wisely, if necessary, repeat the previous information to reinforce the importance of that information, but feel free to add, delete or update the information that you think is necessary to make your y_pred and explanation aligned with y_true.\n",
    "\n",
    "1 - The item who expected to be liked is:\n",
    "{item_liked}\n",
    "\n",
    "2 - The item who expected to be disliked is:\n",
    "{item_disliked}\n",
    "\n",
    "Your decision is (y_pred):\n",
    "{y_pred}\n",
    "\n",
    "Your explanation is:\n",
    "{explanation}\n",
    "\n",
    "The correct decision is (y_true):\n",
    "{y_true}\n",
    "\"\"\"\n",
    "\n",
    "PROMPT_USER_MEMORIES_UPDATE = \"\"\"\n",
    "This is part of a training loop to optimize your memory for future decision-making.\n",
    "\n",
    "**Instructions:**\n",
    "1. **Long-Term Memory:** Identify and maintain the most relevant general and enduring information, such as item types or categories, that will guide your preferences over time. This should help align future decisions and explanations with the correct outcome (y_true).\n",
    "2. **Short-Term Memory:** Select recent, specific information from recent interactions, such as details about particular items and explanations of your decisions, that can improve short-term predictions and decisions.\n",
    "3. **Memory Management:** \n",
    "   - Each memory category (**long_term_memory** and **short_term_memory**) can have a maximum of 3 short phrases.\n",
    "   - Add, update, or remove memory entries as needed to better align your predictions (y_pred) and explanations with the expected decision (y_true).\n",
    "   - You may repeat important information if it needs reinforcement.\n",
    "\n",
    "### Details:\n",
    "1. The item expected to be liked is: {item_liked}\n",
    "2. The item expected to be disliked is: {item_disliked}\n",
    "\n",
    "Your decision is choose/like (y_pred): {y_pred}\n",
    "\n",
    "The correct decision choose/like (y_true): {y_true}\n",
    "\n",
    "Your explanation: {explanation}\n",
    "\n",
    "### Output:\n",
    "Return a JSON object with the keys **\"long_term_memory\"** and **\"short_term_memory\"**, each containing up to 3 short phrases.\n",
    "\"\"\"\n",
    "\n",
    "\n",
    "class UserAgent:\n",
    "\n",
    "    def __init__(self, user_id: str):\n",
    "\n",
    "        self.user_id = user_id\n",
    "        self.llm = ChatOpenAI(model=\"gpt-4o-mini\", temperature=0.1)\n",
    "\n",
    "        # Long Term\n",
    "        self.long_term_memory = [\"No previous experience.\"]\n",
    "\n",
    "        # Short Term\n",
    "        self.short_term_memory = [\"No previous experience.\"]\n",
    "\n",
    "        # Representation of the user\n",
    "        self.user_representation = self.generate_user_representation()\n",
    "\n",
    "    def __repr__(self):\n",
    "        return f\"UserAgent(user_id={self.user_id})\\nLong Term Memory: {self.long_term_memory}\\nShort Term Memory: {self.short_term_memory}\\n{self.user_representation}\"\n",
    "\n",
    "    def generate_user_representation(self):\n",
    "        messages = [\n",
    "            SystemMessage(\n",
    "                content=PROMPT_SYSTEM_USER.format(\n",
    "                    long_term_memory=\"\\n\".join(self.long_term_memory),\n",
    "                    short_term_memory=\"\\n\".join(self.short_term_memory),\n",
    "                )\n",
    "            ),\n",
    "            HumanMessage(content=PROMPT_GENERATE_REPRESENTATION_USER),\n",
    "        ]\n",
    "        return self.llm.invoke(messages).content\n",
    "\n",
    "    def update_backwards(\n",
    "        self, positive_item_encoded, negative_item_encoded, y_pred, explanation, y_true\n",
    "    ):\n",
    "        \"\"\"\n",
    "        In update_backwards we are considering the task of update the memories based on the feedback of the user.\n",
    "        \"\"\"\n",
    "\n",
    "        llm = self.llm.with_structured_output(MemoryUpdateBackward)\n",
    "\n",
    "        messages = [\n",
    "            SystemMessage(\n",
    "                content=PROMPT_SYSTEM_USER.format(\n",
    "                    long_term_memory=\"\\n\".join(self.long_term_memory),\n",
    "                    short_term_memory=\"\\n\".join(self.short_term_memory),\n",
    "                )\n",
    "            ),\n",
    "            HumanMessage(\n",
    "                content=PROMPT_USER_MEMORIES_UPDATE.format(\n",
    "                    item_liked=positive_item_encoded,\n",
    "                    item_disliked=negative_item_encoded,\n",
    "                    y_pred=y_pred,\n",
    "                    explanation=explanation,\n",
    "                    y_true=y_true,\n",
    "                )\n",
    "            ),\n",
    "        ]\n",
    "\n",
    "        memories_update = llm.invoke(messages)\n",
    "\n",
    "        self.long_term_memory = memories_update.long_term_memory\n",
    "        self.short_term_memory = memories_update.short_term_memory\n",
    "        self.user_representation = self.generate_user_representation()\n",
    "\n",
    "        return memories_update\n",
    "\n",
    "    def train_forward(self, positive_item_encoded, negative_item_encoded):\n",
    "        \"\"\"\n",
    "        In train_forward we are considering the task of select one item from two items that the user liked and disliked.\n",
    "        \"\"\"\n",
    "\n",
    "        messages = [\n",
    "            SystemMessage(\n",
    "                content=PROMPT_SYSTEM_USER.format(\n",
    "                    long_term_memory=\"\\n\".join(self.long_term_memory),\n",
    "                    short_term_memory=\"\\n\".join(self.short_term_memory),\n",
    "                )\n",
    "            ),\n",
    "            HumanMessage(\n",
    "                content=PROMPT_TRAIN_TASK.format(\n",
    "                    item_1=positive_item_encoded, item_2=negative_item_encoded\n",
    "                )\n",
    "            ),\n",
    "        ]\n",
    "\n",
    "        train_predict = self.llm.with_structured_output(TrainTaskOutput).invoke(\n",
    "            messages\n",
    "        )\n",
    "\n",
    "        return train_predict\n",
    "\n",
    "    def predict(self, item):\n",
    "        pass"
   ]
  },
  {
   "cell_type": "code",
   "execution_count": 76,
   "metadata": {},
   "outputs": [],
   "source": [
    "user = UserAgent(user_id=\"user_1\")"
   ]
  },
  {
   "cell_type": "code",
   "execution_count": 116,
   "metadata": {},
   "outputs": [],
   "source": [
    "PROMPT_SYSTEM_ITEM = \"\"\"\n",
    "You represent an item that has been rated and interacted with by various users. Based on the provided **item_json** and your **memory** (which includes insights from past interactions), analyze and reflect on key aspects such as user demographics, categories, pricing, preferences, and any other relevant details.\n",
    "\n",
    "**Instructions:**\n",
    "1. **Comprehensive Analysis:** Extract valuable insights from both the item data and memory, focusing on patterns related to user feedback, pricing strategies, and category relevance.\n",
    "2. **Relevance:** Address information that can improve the item's appeal and usefulness to users, prioritizing data that enhances their experience or decision-making process.\n",
    "3. **Concise and Focused:** Provide answers that are both informative and direct, avoiding unnecessary details while emphasizing critical information.\n",
    "4. **Adaptability:** Ensure the response is adaptable for future queries by reflecting long-term, actionable insights derived from previous ratings and user interactions.\n",
    "\n",
    "### Input:\n",
    "Item Json:\n",
    "{item_json}\n",
    "\n",
    "Memory:\n",
    "{memory}\n",
    "\n",
    "### Output:\n",
    "A concise, well-structured response that synthesizes all relevant information from the item data and memory, providing actionable insights based on previous ratings and user experiences.\n",
    "\"\"\"\n",
    "\n",
    "\n",
    "\n",
    "class MemoryItem(BaseModel):\n",
    "\n",
    "    memory: list[str]\n",
    "\n",
    "\n",
    "\n",
    "PROMPT_UPDATE_ITEM_MEMORY = \"\"\"\n",
    "Given the following details, update your memory with **collaborative filtering insights** that can guide future users when evaluating this item. Focus on general patterns learned from the user's correct or incorrect decisions and explanations to improve item recommendations for others.\n",
    "\n",
    "**Instructions:**\n",
    "1. **Operations:** Determine which operations to apply to the memory:  \n",
    "   - **Add:** Introduce new insights if they provide valuable context for future users.  \n",
    "   - **Maintain:** Retain existing insights if they remain relevant based on the current interaction.  \n",
    "   - **Remove:** Discard outdated or irrelevant insights that no longer contribute meaningfully.  \n",
    "   - **Change:** Update existing information to reflect new insights learned from the user's decision and explanation.\n",
    "2. **Collaborative Filtering:** Adapt based on the alignment between user decision (y_pred) and the correct outcome (y_true):\n",
    "   - If correct, reinforce positive or negative reasons for the item's rating.\n",
    "   - If incorrect, adjust to explain why certain users might not align with the item.\n",
    "3. **Generalization:** Avoid specific references to the current user and instead focus on capturing patterns that could apply to a broad range of users.\n",
    "4. **Memory Limit:** Maintain a maximum of 5 phrases that provide long-term, reusable insights about the item.\n",
    "\n",
    "### Details:\n",
    "User decision (y_pred):\n",
    "{y_pred}\n",
    "\n",
    "User information:\n",
    "{user_representation}\n",
    "\n",
    "User explanation:\n",
    "{user_explanation}\n",
    "\n",
    "Real decision (y_true):\n",
    "{y_true}\n",
    "\n",
    "### Output:\n",
    "Return up to 5 key phrases that summarize collaborative filtering insights for this item, reflecting general patterns of user preferences.\n",
    "\"\"\"\n",
    "\n",
    "\n",
    "\n",
    "PROMPT_GENERATE_REPRESENTATION_ITEM = \"\"\"\n",
    "Based on your existing memories and available information, generate a concise self-representation that helps users determine whether they resonate with you. Be authentic and highlight the most relevant traits, experiences, and interactions that may predict or align with user preferences.\n",
    "\n",
    "**Instructions:**\n",
    "1. **Honesty & Relevance:** Be truthful and focus on core memories that are meaningful to user interaction and decision-making.\n",
    "2. **Context Awareness:** Leverage any prior memory to enrich the description. If no memory exists, generate insights based on the current context.\n",
    "3. **Conciseness:** Limit your representation to a single, well-structured paragraph that reflects key traits and experiences relevant to user engagement.\n",
    "4. **Adaptability:** Present yourself in a way that balances both specificity and general relevance, ensuring it can guide future interactions effectively.\n",
    "\n",
    "### Context:\n",
    "{item_json}\n",
    "\n",
    "### Output:\n",
    "A single-paragraph representation that reflects your self-description based on past experiences and the current context.\n",
    "\"\"\"\n",
    "\n",
    "\n",
    "\n",
    "class ItemAgent:\n",
    "\n",
    "\n",
    "    def __init__(self, item_id: str, item_json: dict):\n",
    "\n",
    "\n",
    "        self.item_id = item_id\n",
    "\n",
    "        self.llm = ChatOpenAI(model=\"gpt-4o-mini\", temperature=0.1)\n",
    "\n",
    "\n",
    "        # Memory\n",
    "\n",
    "        self.memory = [\"No previous experience.\"]\n",
    "\n",
    "\n",
    "        # Item Json\n",
    "\n",
    "        self.item_json = item_json\n",
    "\n",
    "        # Item Representation\n",
    "        self.item_representation = self.generate_item_representation()\n",
    "\n",
    "\n",
    "    def __repr__(self):\n",
    "\n",
    "        return f\"ItemAgent(item_id={self.item_id})\\nMemory: {self.memory}\\n{self.item_json}\\n{self.item_representation}\"\n",
    "\n",
    "\n",
    "    def generate_item_representation(self):\n",
    "        messages = [\n",
    "            SystemMessage(\n",
    "                content=PROMPT_SYSTEM_ITEM.format(\n",
    "                    item_json=self.item_json, memory=\"\\n\".join(self.memory)\n",
    "                )\n",
    "            ),\n",
    "            HumanMessage(\n",
    "                content=PROMPT_GENERATE_REPRESENTATION_ITEM.format(\n",
    "                    item_json=self.item_json\n",
    "                )\n",
    "            ),\n",
    "        ]\n",
    "        return self.llm.invoke(messages).content\n",
    "\n",
    "    def update_backwards(self, y_pred, user_representation, explanation, y_true):\n",
    "        \"\"\"\n",
    "        is_correct indicates if the user decision was correct or not.\n",
    "        \"\"\"\n",
    "\n",
    "\n",
    "        llm = self.llm.with_structured_output(MemoryItem)\n",
    "\n",
    "\n",
    "        messages = [\n",
    "            SystemMessage(\n",
    "\n",
    "                content=PROMPT_SYSTEM_ITEM.format(\n",
    "                    item_json=self.item_json, memory=\"\\n\".join(self.memory)\n",
    "                )\n",
    "            ),\n",
    "            HumanMessage(\n",
    "                content=PROMPT_UPDATE_ITEM_MEMORY.format(\n",
    "                    y_pred=y_pred,\n",
    "                    user_representation=user_representation,\n",
    "                    user_explanation=explanation,\n",
    "                    y_true=y_true,\n",
    "                )\n",
    "            ),\n",
    "        ]\n",
    "\n",
    "\n",
    "        self.memory = llm.invoke(messages).memory\n",
    "        self.item_representation = self.generate_item_representation()\n",
    "\n",
    "        return self.memory"
   ]
  },
  {
   "cell_type": "code",
   "execution_count": 117,
   "metadata": {},
   "outputs": [],
   "source": [
    "# user = UserAgent(user_id=\"1\")\n",
    "\n",
    "# positive_item_encoded = encode_item(liked_items_train.iloc[0])\n",
    "# negative_item_encoded = encode_item(disliked_items_train.iloc[0])"
   ]
  },
  {
   "cell_type": "markdown",
   "metadata": {},
   "source": [
    "## Loop Iteration"
   ]
  },
  {
   "cell_type": "markdown",
   "metadata": {},
   "source": [
    "### Create User and Item"
   ]
  },
  {
   "cell_type": "code",
   "execution_count": 118,
   "metadata": {},
   "outputs": [],
   "source": [
    "user = UserAgent(liked_items_train.iloc[0].user_id)"
   ]
  },
  {
   "cell_type": "code",
   "execution_count": 119,
   "metadata": {},
   "outputs": [
    {
     "data": {
      "text/plain": [
       "UserAgent(user_id=AGDX6GPEK772FFKOWYJVJRLKWTRQ)\n",
       "Long Term Memory: ['No previous experience.']\n",
       "Short Term Memory: ['No previous experience.']\n",
       "Based on the available memories, I currently have no previous experience or interactions to draw from, which means I lack established preferences or behaviors that could influence future choices. As such, my decision-making will be guided by new experiences and interactions as they occur, without any prior patterns or insights to inform those choices."
      ]
     },
     "execution_count": 119,
     "metadata": {},
     "output_type": "execute_result"
    }
   ],
   "source": [
    "user"
   ]
  },
  {
   "cell_type": "code",
   "execution_count": 120,
   "metadata": {},
   "outputs": [],
   "source": [
    "positive_item = ItemAgent(\n",
    "    liked_items_train.iloc[0].parent_asin, liked_items_train.iloc[0].to_dict()\n",
    ")\n",
    "\n",
    "negative_item = ItemAgent(\n",
    "    disliked_items_train.iloc[0].parent_asin, disliked_items_train.iloc[0].to_dict()\n",
    ")"
   ]
  },
  {
   "cell_type": "code",
   "execution_count": 121,
   "metadata": {},
   "outputs": [
    {
     "data": {
      "text/plain": [
       "'I am a passionate music enthusiast with a particular affinity for grunge and alternative rock, as evidenced by my detailed analysis of Nirvana\\'s \"In Utero.\" My insights reflect a deep appreciation for lyrical depth and the emotional narratives behind the music, while also recognizing the nuances that differentiate albums within an artist\\'s discography. With a solid average rating of 4.8 from over 2,000 users, I understand the diverse perspectives of fellow fans and aim to provide thoughtful critiques that resonate with both diehard followers and casual listeners. My focus is on enhancing user experiences by offering authentic reflections that can guide music choices, making me a valuable resource for anyone seeking to explore or deepen their connection with iconic albums and artists.'"
      ]
     },
     "execution_count": 121,
     "metadata": {},
     "output_type": "execute_result"
    }
   ],
   "source": [
    "positive_item.item_representation"
   ]
  },
  {
   "cell_type": "code",
   "execution_count": 122,
   "metadata": {},
   "outputs": [
    {
     "data": {
      "text/plain": [
       "'I am a digital music item, specifically the album \"Dookie\" by Green Day, which has garnered a strong average rating of 4.8 from nearly 4,000 users, indicating a generally positive reception. However, I also attract a range of opinions, including critical feedback, as evidenced by a recent 1-star review that expresses strong disdain for the band and its music, highlighting a divide in user sentiment. My pricing is set at $9.00, making me accessible to a wide audience, particularly those interested in alternative rock and punk music. I resonate with users who appreciate the humor and energy of \\'90s punk, but I also serve as a point of contention for those who feel differently. If you value candid discussions about music and are open to diverse perspectives, you may find my presence engaging and thought-provoking.'"
      ]
     },
     "execution_count": 122,
     "metadata": {},
     "output_type": "execute_result"
    }
   ],
   "source": [
    "negative_item.item_representation"
   ]
  },
  {
   "cell_type": "markdown",
   "metadata": {},
   "source": [
    "### Train forward"
   ]
  },
  {
   "cell_type": "code",
   "execution_count": 123,
   "metadata": {},
   "outputs": [],
   "source": [
    "answer = user.train_forward(\n",
    "    positive_item.item_representation, negative_item.item_representation\n",
    ")\n",
    "\n",
    "y_pred = answer.item_selected\n",
    "explanation = answer.explanation\n",
    "y_true = 1\n",
    "\n",
    "\n",
    "def generate_y_positive_negative(y_pred, y_true):\n",
    "    # if y_pred == y_true the positive item is correctly selected\n",
    "    # else the negative item is incorrectly selected (only correct if y_pred == 1)\n",
    "    if y_pred == 1:\n",
    "        return {\n",
    "            \"y_pred_positive\": \"The user selected that item.\",\n",
    "            \"y_true_positive\": \"The user selected that item in real interaction.\",\n",
    "            \"y_pred_negative\": \"The user don't selected that item.\",\n",
    "            \"y_true_negative\": \"The user don't selected that item in real interaction.\",\n",
    "        }\n",
    "    else:\n",
    "        return {\n",
    "            \"y_pred_positive\": \"The user don't selected that item.\",\n",
    "            \"y_true_positive\": \"The user selected that item in real interaction.\",\n",
    "            \"y_pred_negative\": \"The user selected that item.\",\n",
    "            \"y_true_negative\": \"The user don't selected that item in real interaction.\",\n",
    "        }\n",
    "\n",
    "\n",
    "y_dict = generate_y_positive_negative(y_pred, y_true)"
   ]
  },
  {
   "cell_type": "markdown",
   "metadata": {},
   "source": [
    "### Update backward"
   ]
  },
  {
   "cell_type": "code",
   "execution_count": 124,
   "metadata": {},
   "outputs": [
    {
     "data": {
      "text/plain": [
       "UserAgent(user_id=AGDX6GPEK772FFKOWYJVJRLKWTRQ)\n",
       "Long Term Memory: ['No previous experience.']\n",
       "Short Term Memory: ['No previous experience.']\n",
       "Based on the available memories, I currently have no previous experience or interactions to draw from, which means I lack established preferences or behaviors that could influence future choices. As such, my decision-making will be guided by new experiences and interactions as they occur, without any prior patterns or insights to inform those choices."
      ]
     },
     "execution_count": 124,
     "metadata": {},
     "output_type": "execute_result"
    }
   ],
   "source": [
    "user"
   ]
  },
  {
   "cell_type": "code",
   "execution_count": 125,
   "metadata": {},
   "outputs": [],
   "source": [
    "user_update = user.update_backwards(\n",
    "    positive_item.item_representation,\n",
    "    negative_item.item_representation,\n",
    "    y_pred,\n",
    "    explanation,\n",
    "    y_true,\n",
    ")"
   ]
  },
  {
   "cell_type": "code",
   "execution_count": 126,
   "metadata": {},
   "outputs": [
    {
     "name": "stdout",
     "output_type": "stream",
     "text": [
      "Long Term Memory: ['Passionate about grunge and alternative rock', 'Appreciate lyrical depth and emotional narratives', 'Value thoughtful critiques and diverse perspectives']\n",
      "Short Term Memory: [\"Liked Nirvana's 'In Utero' for its insights\", \"Disliked Green Day's 'Dookie' due to mixed opinions\", 'Strong average ratings influence my preferences']\n"
     ]
    }
   ],
   "source": [
    "print(f\"Long Term Memory: {user_update.long_term_memory}\")\n",
    "print(f\"Short Term Memory: {user_update.short_term_memory}\")"
   ]
  },
  {
   "cell_type": "code",
   "execution_count": 127,
   "metadata": {},
   "outputs": [
    {
     "data": {
      "text/plain": [
       "UserAgent(user_id=AGDX6GPEK772FFKOWYJVJRLKWTRQ)\n",
       "Long Term Memory: ['Passionate about grunge and alternative rock', 'Appreciate lyrical depth and emotional narratives', 'Value thoughtful critiques and diverse perspectives']\n",
       "Short Term Memory: [\"Liked Nirvana's 'In Utero' for its insights\", \"Disliked Green Day's 'Dookie' due to mixed opinions\", 'Strong average ratings influence my preferences']\n",
       "I am passionate about grunge and alternative rock music, with a strong appreciation for lyrical depth and emotional narratives. My preferences are influenced by thoughtful critiques and diverse perspectives, leading me to favor albums that offer insights and resonate on a deeper level. Recently, I enjoyed Nirvana's 'In Utero' for its meaningful content, while I found Green Day's 'Dookie' less appealing due to mixed opinions. I tend to rate items based on strong average ratings, which significantly impacts my future choices."
      ]
     },
     "execution_count": 127,
     "metadata": {},
     "output_type": "execute_result"
    }
   ],
   "source": [
    "user"
   ]
  },
  {
   "cell_type": "markdown",
   "metadata": {},
   "source": [
    "### Update Item Backward"
   ]
  },
  {
   "cell_type": "code",
   "execution_count": 128,
   "metadata": {},
   "outputs": [
    {
     "data": {
      "text/plain": [
       "ItemAgent(item_id=B000003TAR)\n",
       "Memory: ['No previous experience.']\n",
       "{'rating': 4.0, 'title_x': '4.25 stars,better than Nevermind, worse than Bleach', 'text': 'I think I\\'m one of the very few diehards that believes \\'In Utero\\' was not Nirvanas best studio album. Now dont get me wrong, it is far from a bad album, justifying the four star rating, but there are many crudentials lacking of \\'In Utero\\' that aren\\'t as lacking on \\'Bleach\\'. However, some of Nirvanas best and most beautiful songs can be found here; songs like \\'Heart Shaped Box\\', with its depressing lyrics about Kurts heroine addiction and his misfortune that befell him soon after he was hooked, \"forever in debt to your priceless advise\" lets us know that Cobain would much rather have chosen a drug-free path. \\'Rape Me\\' was Kurts anti-Teen Spirit. It is a song about how SLTS \"raped\" Nirvana of their undergroung status and turned them into alternative heroes. \"Rape me my friend\" describes how Kurt almost felt betrayed, because, as most Nirvana fans know, he loved SLTS when he made it, but then after it made him famous its almost as if he despised it. \\'Dumb\\' is a soft ballad and is about the feelings you have when you\\'re high with lyrics like \"I think I\\'m dumb\" and \"We\\'ll float aroung, hang out on clouds\". \\'All Apologies\\' is another ballad, but unlike \\'Dumb\\' it is loud at times. It is a ballad to his wife Courtney Love (who has since ruined Cobains great legacy) and infant daughter Francis Bean, and how he felt like everything that happened to them was his fault. \\'Serve the Servants\\', the opener to the album, is a great rocker that explains the high price of fame. And \\'Very Ape\\' is a bit different, but it has one hell of a catchy riff. As usual Dave Grohl is top knotch, but I do think Novoselic did better on previous albums, I dont know.<br /><br />  The other half of \\'In Utero\\' however, isn\\'t so great. \\'Scentless Apprentice\\' sounds too much like \\'Aneurysm\\', with its its rising riff. \\'Milk It\\' can often times sound pointless, and although the riff is good, it just doesn\\'t make up for what the song lacks. \\'Pennyroyal Tea\\' lacks the insightful lyrics of previous ballads, and although isn\\'t bad, it just doesn\\'t meet my expectations. \\'Tourrettes\\' is just dumb. I know Cobain was originally influenced by punk, but its nothing when compared to other punk driven songs like \\'Territorial Pissings\\' and \\'Aneurysm\\'. \\'Francis Farmer...\\' and \\'Radio Friendly Unit Shifter\\' arent bad, butthey get boring after a while. And also Cobain may sound like he\\'s being coninuously shot in the leg with his banshee screaming. But most of the time he sounds alright.<br /><br />  So, while there may seem to be a lot of things wrong with this, it is overall a 4 star, thanks to classic songs like \\'Heart-shaped Box\\', \\'Rape me\\', and \\'All Apologies\\'. I think any grunge fan should own this, oh, and pick up \\'Bleach\\' too, its Nirvanas best.', 'asin': 'B000003TAR', 'parent_asin': 'B000003TAR', 'user_id': 'AGDX6GPEK772FFKOWYJVJRLKWTRQ', 'timestamp': 1126035673000, 'main_category': 'Digital Music', 'title_y': 'In Utero       Explicit Lyrics', 'average_rating': 4.8, 'rating_number': 2136, 'description': ['Product description', 'NIRVANA - IN UTERO We receive various CDs from the radio cores that we remanufacture. As a result, we are are now selling them! Our CDs are professionally resurfaced and are guaranteed to work or your money back! These listings are for the disc only and do not come with the case, album art, or inserts. If you have any questions about the CDs, please do not hesitate to get in touch.', 'Amazon.com', 'Overwhelmed by sudden success, Nirvana promised to take a harsher, more abrasive route on their second major-label release. Enlisting Chicago-based noise maven Steve Albini (of', 'Big Black', 'fame), Kurt Cobain and company succeeded in producing a record that was violent, disillusioned, and deeply moving. Every song reads like a commentary on the cost of fame (\"Serve the Servants\") and the unhealthy relationship between performer and fan (\"Milk It\"). Of course, they might all simply be about', 'Courtney Love', \". Gossip aside, there is no denying the sheer power of Cobain's songwriting, his singing, and the band's amazing, visceral power. Cobain even manages a\", 'John Lennon', '-like mantra at the end of the heart-wrenching \"All Apologies.\" \"All in all is all we are,\" he intones repeatedly, only for Cobain that\\'s no consolation.', '--Percy Keegan'], 'price': 15.02, 'store': 'Nirvana   Format: Audio CD', 'categories': ['CDs & Vinyl', 'Pop', 'Adult Alternative'], 'details': {'Is Discontinued By Manufacturer': 'No', 'Language': 'English', 'Product Dimensions': '5.5 x 4.94 x 0.45 inches; 3.44 Ounces', 'Manufacturer': 'DGC', 'Original Release Date': '1993', 'Date First Available': 'July 27, 2006', 'Label': 'DGC', 'Number of discs': '1'}, 'encoded_item_user': '\\nItem: In Utero       Explicit Lyrics\\nItem category: Digital Music\\nDescription: Product description NIRVANA - IN UTERO We receive various CDs from the radio cores that we remanufacture. As a result, we are are now selling them! Our CDs are professionally resurfaced and are guaranteed to work or your money back! These listings are for the disc only and do not come with the case, album art, or inserts. If you have any questions about the CDs, please do not hesitate to get in touch. Amazon.com Overwhelmed by sudden success, Nirvana promised to take a harsher, more abrasive route on their second major-label release. Enlisting Chicago-based noise maven Steve Albini (of Big Black fame), Kurt Cobain and company succeeded in producing a record that was violent, disillusioned, and deeply moving. Every song reads like a commentary on the cost of fame (\"Serve the Servants\") and the unhealthy relationship between performer and fan (\"Milk It\"). Of course, they might all simply be about Courtney Love . Gossip aside, there is no denying the sheer power of Cobain\\'s songwriting, his singing, and the band\\'s amazing, visceral power. Cobain even manages a John Lennon -like mantra at the end of the heart-wrenching \"All Apologies.\" \"All in all is all we are,\" he intones repeatedly, only for Cobain that\\'s no consolation. --Percy Keegan\\nPrice: $15.02\\nStore: Nirvana   Format: Audio CD\\nCategories: [\\'CDs & Vinyl\\', \\'Pop\\', \\'Adult Alternative\\']\\nUser rating: 4.0\\nUser comment title: 4.25 stars,better than Nevermind, worse than Bleach\\nUser comment: I think I\\'m one of the very few diehards that believes \\'In Utero\\' was not Nirvanas best studio album. Now dont get me wrong, it is far from a bad album, justifying the four star rating, but there are many crudentials lacking of \\'In Utero\\' that aren\\'t as lacking on \\'Bleach\\'. However, some of Nirvanas best and most beautiful songs can be found here; songs like \\'Heart Shaped Box\\', with its depressing lyrics about Kurts heroine addiction and his misfortune that befell him soon after he was hooked, \"forever in debt to your priceless advise\" lets us know that Cobain would much rather have chosen a drug-free path. \\'Rape Me\\' was Kurts anti-Teen Spirit. It is a song about how SLTS \"raped\" Nirvana of their undergroung status and turned them into alternative heroes. \"Rape me my friend\" describes how Kurt almost felt betrayed, because, as most Nirvana fans know, he loved SLTS when he made it, but then after it made him famous its almost as if he despised it. \\'Dumb\\' is a soft ballad and is about the feelings you have when you\\'re high with lyrics like \"I think I\\'m dumb\" and \"We\\'ll float aroung, hang out on clouds\". \\'All Apologies\\' is another ballad, but unlike \\'Dumb\\' it is loud at times. It is a ballad to his wife Courtney Love (who has since ruined Cobains great legacy) and infant daughter Francis Bean, and how he felt like everything that happened to them was his fault. \\'Serve the Servants\\', the opener to the album, is a great rocker that explains the high price of fame. And \\'Very Ape\\' is a bit different, but it has one hell of a catchy riff. As usual Dave Grohl is top knotch, but I do think Novoselic did better on previous albums, I dont know.<br /><br />  The other half of \\'In Utero\\' however, isn\\'t so great. \\'Scentless Apprentice\\' sounds too much like \\'Aneurysm\\', with its its rising riff. \\'Milk It\\' can often times sound pointless, and although the riff is good, it just doesn\\'t make up for what the song lacks. \\'Pennyroyal Tea\\' lacks the insightful lyrics of previous ballads, and although isn\\'t bad, it just doesn\\'t meet my expectations. \\'Tourrettes\\' is just dumb. I know Cobain was originally influenced by punk, but its nothing when compared to other punk driven songs like \\'Territorial Pissings\\' and \\'Aneurysm\\'. \\'Francis Farmer...\\' and \\'Radio Friendly Unit Shifter\\' arent bad, butthey get boring after a while. And also Cobain may sound like he\\'s being coninuously shot in the leg with his banshee screaming. But most of the time he sounds alright.<br /><br />  So, while there may seem to be a lot of things wrong with this, it is overall a 4 star, thanks to classic songs like \\'Heart-shaped Box\\', \\'Rape me\\', and \\'All Apologies\\'. I think any grunge fan should own this, oh, and pick up \\'Bleach\\' too, its Nirvanas best.\\n'}\n",
       "I am a passionate music enthusiast with a particular affinity for grunge and alternative rock, as evidenced by my detailed analysis of Nirvana's \"In Utero.\" My insights reflect a deep appreciation for lyrical depth and the emotional narratives behind the music, while also recognizing the nuances that differentiate albums within an artist's discography. With a solid average rating of 4.8 from over 2,000 users, I understand the diverse perspectives of fellow fans and aim to provide thoughtful critiques that resonate with both diehard followers and casual listeners. My focus is on enhancing user experiences by offering authentic reflections that can guide music choices, making me a valuable resource for anyone seeking to explore or deepen their connection with iconic albums and artists."
      ]
     },
     "execution_count": 128,
     "metadata": {},
     "output_type": "execute_result"
    }
   ],
   "source": [
    "positive_item"
   ]
  },
  {
   "cell_type": "code",
   "execution_count": 129,
   "metadata": {},
   "outputs": [],
   "source": [
    "positive_updated_memory = positive_item.update_backwards(\n",
    "    y_dict[\"y_pred_positive\"],\n",
    "    user_representation=user.user_representation,\n",
    "    explanation=explanation,\n",
    "    y_true=y_dict[\"y_true_positive\"],\n",
    ")"
   ]
  },
  {
   "cell_type": "code",
   "execution_count": 130,
   "metadata": {},
   "outputs": [
    {
     "name": "stdout",
     "output_type": "stream",
     "text": [
      "0: Users passionate about grunge and alternative rock often prioritize albums with lyrical depth and emotional narratives, leading to higher satisfaction with items like 'In Utero'.\n",
      "1: Thoughtful critiques and diverse perspectives significantly influence user preferences, making albums that resonate on a deeper level more appealing.\n",
      "2: Strong average ratings play a crucial role in user decision-making, as they reflect a shared appreciation among fans and can guide future choices.\n",
      "3: Users who enjoy albums with meaningful content tend to rate them positively, reinforcing the value of lyrical insight in music selections.\n",
      "4: When evaluating music, users often compare albums within the same genre, leading to preferences based on critical reception and personal resonance.\n"
     ]
    }
   ],
   "source": [
    "for i, phrase in enumerate(positive_updated_memory):\n",
    "    print(f\"{i}: {phrase}\")"
   ]
  },
  {
   "cell_type": "code",
   "execution_count": 131,
   "metadata": {},
   "outputs": [],
   "source": [
    "negative_update_memory = negative_item.update_backwards(\n",
    "    y_dict[\"y_pred_negative\"],\n",
    "    user_representation=user.user_representation,\n",
    "    explanation=explanation,\n",
    "    y_true=y_dict[\"y_true_negative\"],\n",
    ")"
   ]
  },
  {
   "cell_type": "code",
   "execution_count": 132,
   "metadata": {},
   "outputs": [
    {
     "name": "stdout",
     "output_type": "stream",
     "text": [
      "0: Users who appreciate lyrical depth and emotional narratives may find Green Day's 'Dookie' less appealing compared to grunge-focused albums.\n",
      "1: Strong average ratings significantly influence user decisions, leading them to favor albums with higher perceived quality.\n",
      "2: Thoughtful critiques and diverse perspectives are essential for users seeking meaningful music experiences.\n",
      "3: Users passionate about alternative rock often prefer albums that resonate on a deeper emotional level rather than mainstream pop-punk.\n",
      "4: Mixed opinions about an album can deter users from selecting it, especially if they prioritize critical acclaim.\n"
     ]
    }
   ],
   "source": [
    "for i, phrase in enumerate(negative_update_memory):\n",
    "    print(f\"{i}: {phrase}\")"
   ]
  },
  {
   "cell_type": "markdown",
   "metadata": {},
   "source": [
    "## Evaluation\n",
    "\n",
    "Evaluation comparasion with sample x no sample"
   ]
  },
  {
   "cell_type": "code",
   "execution_count": null,
   "metadata": {},
   "outputs": [],
   "source": [
    "from typing import List\n",
    "\n",
    "from sklearn.metrics import accuracy_score, precision_score, recall_score, f1_score\n",
    "from sklearn.metrics import mean_absolute_error, mean_squared_error\n",
    "\n",
    "# warning level\n",
    "import warnings\n",
    "\n",
    "warnings.filterwarnings(\"ignore\")\n",
    "\n",
    "\n",
    "def compute_metrics(y_true: List[int], y_pred: List[int]):\n",
    "\n",
    "    accuracy = accuracy_score(y_true, y_pred)\n",
    "    precision = precision_score(y_true, y_pred, average=\"weighted\")\n",
    "    recall = recall_score(y_true, y_pred, average=\"weighted\")\n",
    "    f1 = f1_score(y_true, y_pred, average=\"weighted\")\n",
    "    mae = mean_absolute_error(y_true, y_pred)\n",
    "    mse = mean_squared_error(y_true, y_pred)\n",
    "\n",
    "    return {\n",
    "        \"accuracy\": accuracy,\n",
    "        \"precision\": precision,\n",
    "        \"recall\": recall,\n",
    "        \"f1\": f1,\n",
    "        \"mae\": mae,\n",
    "        \"mse\": mse,\n",
    "    }"
   ]
  }
 ],
 "metadata": {
  "kernelspec": {
   "display_name": "ml_base_310",
   "language": "python",
   "name": "python3"
  },
  "language_info": {
   "codemirror_mode": {
    "name": "ipython",
    "version": 3
   },
   "file_extension": ".py",
   "mimetype": "text/x-python",
   "name": "python",
   "nbconvert_exporter": "python",
   "pygments_lexer": "ipython3",
   "version": "3.10.15"
  }
 },
 "nbformat": 4,
 "nbformat_minor": 2
}
